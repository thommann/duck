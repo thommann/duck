{
 "cells": [
  {
   "cell_type": "code",
   "execution_count": 1,
   "id": "initial_id",
   "metadata": {
    "collapsed": true,
    "ExecuteTime": {
     "end_time": "2023-08-22T07:35:27.142575Z",
     "start_time": "2023-08-22T07:35:25.818197Z"
    }
   },
   "outputs": [],
   "source": [
    "import pandas as pd"
   ]
  },
  {
   "cell_type": "code",
   "execution_count": 4,
   "outputs": [
    {
     "name": "stdout",
     "output_type": "stream",
     "text": [
      "<class 'pandas.core.frame.DataFrame'>\n",
      "RangeIndex: 159 entries, 0 to 158\n",
      "Data columns (total 14 columns):\n",
      " #   Column                        Non-Null Count  Dtype  \n",
      "---  ------                        --------------  -----  \n",
      " 0   Station                       159 non-null    object \n",
      " 1   Abk.                          159 non-null    object \n",
      " 2   WIGOS-ID                      156 non-null    object \n",
      " 3   Wind km/h                     155 non-null    float64\n",
      " 4   Windrichtung °                155 non-null    float64\n",
      " 5   Messdatum                     155 non-null    object \n",
      " 6   Messhöhe m ü. M.              156 non-null    float64\n",
      " 7   Zusatzinformation m ü. Boden  156 non-null    object \n",
      " 8   KoordinatenE                  156 non-null    float64\n",
      " 9   KoordinatenN                  156 non-null    float64\n",
      " 10  Breitengrad                   156 non-null    float64\n",
      " 11  Längengrad                    156 non-null    float64\n",
      " 12  Kanton                        156 non-null    object \n",
      " 13  Link                          156 non-null    object \n",
      "dtypes: float64(7), object(7)\n",
      "memory usage: 17.5+ KB\n"
     ]
    }
   ],
   "source": [
    "df = pd.read_csv('wind-data/ch.meteoschweiz.messwerte-windgeschwindigkeit-kmh-10min_de.csv', sep=';',\n",
    "                 encoding='ISO-8859-1')\n",
    "df.info()"
   ],
   "metadata": {
    "collapsed": false,
    "ExecuteTime": {
     "end_time": "2023-08-22T07:52:54.324092Z",
     "start_time": "2023-08-22T07:52:54.295727Z"
    }
   },
   "id": "eaf70ed6074ca5b3"
  },
  {
   "cell_type": "code",
   "execution_count": 5,
   "outputs": [
    {
     "data": {
      "text/plain": "                    Station Abk.         WIGOS-ID  Wind km/h  Windrichtung °  \\\n0          Aadorf / Tänikon  TAE  0-20000-0-06679        1.4            96.0   \n1  Acquarossa / Comprovasco  COM  0-20000-0-06756        6.8           344.0   \n2                 Adelboden  ABO  0-20000-0-06735        2.9           155.0   \n3                     Aigle  AIG  0-20000-0-06712        8.6           190.0   \n4                   Altdorf  ALT  0-20000-0-06672        1.4             4.0   \n\n          Messdatum  Messhöhe m ü. M. Zusatzinformation m ü. Boden  \\\n0  2023-08-22 09:20             548.0                      10.00 m   \n1  2023-08-22 09:20             601.0   25.20 m (auf 15.20 m Dach)   \n2  2023-08-22 09:20            1357.0   31.00 m (auf 21.00 m Dach)   \n3  2023-08-22 09:20             391.0                      10.00 m   \n4  2023-08-22 09:20             448.0                      10.00 m   \n\n   KoordinatenE  KoordinatenN  Breitengrad  Längengrad Kanton  \\\n0     2710516.0     1259826.0    47.479908    8.904903     TG   \n1     2714981.0     1146390.0    46.458972    8.935419     TI   \n2     2609355.0     1148995.0    46.492197    7.560483     BE   \n3     2560402.0     1130719.0    46.326697    6.924450     VD   \n4     2690177.0     1193568.0    46.887106    8.621847     UR   \n\n                                                Link  \n0  https://www.meteoschweiz.admin.ch/service-und-...  \n1  https://www.meteoschweiz.admin.ch/service-und-...  \n2  https://www.meteoschweiz.admin.ch/service-und-...  \n3  https://www.meteoschweiz.admin.ch/service-und-...  \n4  https://www.meteoschweiz.admin.ch/service-und-...  ",
      "text/html": "<div>\n<style scoped>\n    .dataframe tbody tr th:only-of-type {\n        vertical-align: middle;\n    }\n\n    .dataframe tbody tr th {\n        vertical-align: top;\n    }\n\n    .dataframe thead th {\n        text-align: right;\n    }\n</style>\n<table border=\"1\" class=\"dataframe\">\n  <thead>\n    <tr style=\"text-align: right;\">\n      <th></th>\n      <th>Station</th>\n      <th>Abk.</th>\n      <th>WIGOS-ID</th>\n      <th>Wind km/h</th>\n      <th>Windrichtung °</th>\n      <th>Messdatum</th>\n      <th>Messhöhe m ü. M.</th>\n      <th>Zusatzinformation m ü. Boden</th>\n      <th>KoordinatenE</th>\n      <th>KoordinatenN</th>\n      <th>Breitengrad</th>\n      <th>Längengrad</th>\n      <th>Kanton</th>\n      <th>Link</th>\n    </tr>\n  </thead>\n  <tbody>\n    <tr>\n      <th>0</th>\n      <td>Aadorf / Tänikon</td>\n      <td>TAE</td>\n      <td>0-20000-0-06679</td>\n      <td>1.4</td>\n      <td>96.0</td>\n      <td>2023-08-22 09:20</td>\n      <td>548.0</td>\n      <td>10.00 m</td>\n      <td>2710516.0</td>\n      <td>1259826.0</td>\n      <td>47.479908</td>\n      <td>8.904903</td>\n      <td>TG</td>\n      <td>https://www.meteoschweiz.admin.ch/service-und-...</td>\n    </tr>\n    <tr>\n      <th>1</th>\n      <td>Acquarossa / Comprovasco</td>\n      <td>COM</td>\n      <td>0-20000-0-06756</td>\n      <td>6.8</td>\n      <td>344.0</td>\n      <td>2023-08-22 09:20</td>\n      <td>601.0</td>\n      <td>25.20 m (auf 15.20 m Dach)</td>\n      <td>2714981.0</td>\n      <td>1146390.0</td>\n      <td>46.458972</td>\n      <td>8.935419</td>\n      <td>TI</td>\n      <td>https://www.meteoschweiz.admin.ch/service-und-...</td>\n    </tr>\n    <tr>\n      <th>2</th>\n      <td>Adelboden</td>\n      <td>ABO</td>\n      <td>0-20000-0-06735</td>\n      <td>2.9</td>\n      <td>155.0</td>\n      <td>2023-08-22 09:20</td>\n      <td>1357.0</td>\n      <td>31.00 m (auf 21.00 m Dach)</td>\n      <td>2609355.0</td>\n      <td>1148995.0</td>\n      <td>46.492197</td>\n      <td>7.560483</td>\n      <td>BE</td>\n      <td>https://www.meteoschweiz.admin.ch/service-und-...</td>\n    </tr>\n    <tr>\n      <th>3</th>\n      <td>Aigle</td>\n      <td>AIG</td>\n      <td>0-20000-0-06712</td>\n      <td>8.6</td>\n      <td>190.0</td>\n      <td>2023-08-22 09:20</td>\n      <td>391.0</td>\n      <td>10.00 m</td>\n      <td>2560402.0</td>\n      <td>1130719.0</td>\n      <td>46.326697</td>\n      <td>6.924450</td>\n      <td>VD</td>\n      <td>https://www.meteoschweiz.admin.ch/service-und-...</td>\n    </tr>\n    <tr>\n      <th>4</th>\n      <td>Altdorf</td>\n      <td>ALT</td>\n      <td>0-20000-0-06672</td>\n      <td>1.4</td>\n      <td>4.0</td>\n      <td>2023-08-22 09:20</td>\n      <td>448.0</td>\n      <td>10.00 m</td>\n      <td>2690177.0</td>\n      <td>1193568.0</td>\n      <td>46.887106</td>\n      <td>8.621847</td>\n      <td>UR</td>\n      <td>https://www.meteoschweiz.admin.ch/service-und-...</td>\n    </tr>\n  </tbody>\n</table>\n</div>"
     },
     "execution_count": 5,
     "metadata": {},
     "output_type": "execute_result"
    }
   ],
   "source": [
    "df.head()"
   ],
   "metadata": {
    "collapsed": false,
    "ExecuteTime": {
     "end_time": "2023-08-22T07:52:57.620659Z",
     "start_time": "2023-08-22T07:52:57.598367Z"
    }
   },
   "id": "8506a4576e46de8c"
  },
  {
   "cell_type": "code",
   "execution_count": 12,
   "outputs": [
    {
     "name": "stdout",
     "output_type": "stream",
     "text": [
      "Station:  159\n",
      "Messdatum:  3\n"
     ]
    },
    {
     "data": {
      "text/plain": "Messdatum\n2023-08-22 09:20    154\n2023-08-22 09:10      1\nName: count, dtype: int64"
     },
     "execution_count": 12,
     "metadata": {},
     "output_type": "execute_result"
    }
   ],
   "source": [
    "# nr of unique values\n",
    "print(\"Station: \", len(df['Station'].unique()))\n",
    "print(\"Messdatum: \", len(df['Messdatum'].unique()))\n",
    "# nr of occurences of each unique value\n",
    "df['Messdatum'].value_counts()"
   ],
   "metadata": {
    "collapsed": false,
    "ExecuteTime": {
     "end_time": "2023-08-22T07:58:29.133063Z",
     "start_time": "2023-08-22T07:58:29.121966Z"
    }
   },
   "id": "26358c46d013eb92"
  },
  {
   "cell_type": "code",
   "execution_count": null,
   "outputs": [],
   "source": [],
   "metadata": {
    "collapsed": false
   },
   "id": "3ec4a691216ff7ce"
  }
 ],
 "metadata": {
  "kernelspec": {
   "display_name": "Python 3",
   "language": "python",
   "name": "python3"
  },
  "language_info": {
   "codemirror_mode": {
    "name": "ipython",
    "version": 2
   },
   "file_extension": ".py",
   "mimetype": "text/x-python",
   "name": "python",
   "nbconvert_exporter": "python",
   "pygments_lexer": "ipython2",
   "version": "2.7.6"
  }
 },
 "nbformat": 4,
 "nbformat_minor": 5
}
