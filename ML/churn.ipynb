{
 "cells": [
  {
   "cell_type": "code",
   "execution_count": 3,
   "outputs": [
    {
     "data": {
      "text/plain": "   CustomerID   Age  Gender  Tenure  Usage Frequency  Support Calls  \\\n0         2.0  30.0  Female    39.0             14.0            5.0   \n1         3.0  65.0  Female    49.0              1.0           10.0   \n2         4.0  55.0  Female    14.0              4.0            6.0   \n3         5.0  58.0    Male    38.0             21.0            7.0   \n4         6.0  23.0    Male    32.0             20.0            5.0   \n\n   Payment Delay Subscription Type Contract Length  Total Spend  \\\n0           18.0          Standard          Annual        932.0   \n1            8.0             Basic         Monthly        557.0   \n2           18.0             Basic       Quarterly        185.0   \n3            7.0          Standard         Monthly        396.0   \n4            8.0             Basic         Monthly        617.0   \n\n   Last Interaction  Churn  \n0              17.0    1.0  \n1               6.0    1.0  \n2               3.0    1.0  \n3              29.0    1.0  \n4              20.0    1.0  ",
      "text/html": "<div>\n<style scoped>\n    .dataframe tbody tr th:only-of-type {\n        vertical-align: middle;\n    }\n\n    .dataframe tbody tr th {\n        vertical-align: top;\n    }\n\n    .dataframe thead th {\n        text-align: right;\n    }\n</style>\n<table border=\"1\" class=\"dataframe\">\n  <thead>\n    <tr style=\"text-align: right;\">\n      <th></th>\n      <th>CustomerID</th>\n      <th>Age</th>\n      <th>Gender</th>\n      <th>Tenure</th>\n      <th>Usage Frequency</th>\n      <th>Support Calls</th>\n      <th>Payment Delay</th>\n      <th>Subscription Type</th>\n      <th>Contract Length</th>\n      <th>Total Spend</th>\n      <th>Last Interaction</th>\n      <th>Churn</th>\n    </tr>\n  </thead>\n  <tbody>\n    <tr>\n      <th>0</th>\n      <td>2.0</td>\n      <td>30.0</td>\n      <td>Female</td>\n      <td>39.0</td>\n      <td>14.0</td>\n      <td>5.0</td>\n      <td>18.0</td>\n      <td>Standard</td>\n      <td>Annual</td>\n      <td>932.0</td>\n      <td>17.0</td>\n      <td>1.0</td>\n    </tr>\n    <tr>\n      <th>1</th>\n      <td>3.0</td>\n      <td>65.0</td>\n      <td>Female</td>\n      <td>49.0</td>\n      <td>1.0</td>\n      <td>10.0</td>\n      <td>8.0</td>\n      <td>Basic</td>\n      <td>Monthly</td>\n      <td>557.0</td>\n      <td>6.0</td>\n      <td>1.0</td>\n    </tr>\n    <tr>\n      <th>2</th>\n      <td>4.0</td>\n      <td>55.0</td>\n      <td>Female</td>\n      <td>14.0</td>\n      <td>4.0</td>\n      <td>6.0</td>\n      <td>18.0</td>\n      <td>Basic</td>\n      <td>Quarterly</td>\n      <td>185.0</td>\n      <td>3.0</td>\n      <td>1.0</td>\n    </tr>\n    <tr>\n      <th>3</th>\n      <td>5.0</td>\n      <td>58.0</td>\n      <td>Male</td>\n      <td>38.0</td>\n      <td>21.0</td>\n      <td>7.0</td>\n      <td>7.0</td>\n      <td>Standard</td>\n      <td>Monthly</td>\n      <td>396.0</td>\n      <td>29.0</td>\n      <td>1.0</td>\n    </tr>\n    <tr>\n      <th>4</th>\n      <td>6.0</td>\n      <td>23.0</td>\n      <td>Male</td>\n      <td>32.0</td>\n      <td>20.0</td>\n      <td>5.0</td>\n      <td>8.0</td>\n      <td>Basic</td>\n      <td>Monthly</td>\n      <td>617.0</td>\n      <td>20.0</td>\n      <td>1.0</td>\n    </tr>\n  </tbody>\n</table>\n</div>"
     },
     "execution_count": 3,
     "metadata": {},
     "output_type": "execute_result"
    }
   ],
   "source": [
    "import numpy as np\n",
    "import pandas as pd\n",
    "\n",
    "# Load the data\n",
    "train = pd.read_csv(\"input/customer_churn_dataset-training-master.csv\")\n",
    "test = pd.read_csv(\"input/customer_churn_dataset-testing-master.csv\")\n",
    "train.head()"
   ],
   "metadata": {
    "collapsed": false,
    "ExecuteTime": {
     "end_time": "2023-08-22T09:10:26.150975Z",
     "start_time": "2023-08-22T09:10:25.668880Z"
    }
   }
  },
  {
   "cell_type": "code",
   "execution_count": 4,
   "outputs": [
    {
     "data": {
      "text/plain": "    Age  Tenure  Usage Frequency  Support Calls  Payment Delay  Total Spend  \\\n0  30.0    39.0             14.0            5.0           18.0        932.0   \n1  65.0    49.0              1.0           10.0            8.0        557.0   \n2  55.0    14.0              4.0            6.0           18.0        185.0   \n3  58.0    38.0             21.0            7.0            7.0        396.0   \n4  23.0    32.0             20.0            5.0            8.0        617.0   \n\n   Last Interaction  Churn  \n0              17.0    1.0  \n1               6.0    1.0  \n2               3.0    1.0  \n3              29.0    1.0  \n4              20.0    1.0  ",
      "text/html": "<div>\n<style scoped>\n    .dataframe tbody tr th:only-of-type {\n        vertical-align: middle;\n    }\n\n    .dataframe tbody tr th {\n        vertical-align: top;\n    }\n\n    .dataframe thead th {\n        text-align: right;\n    }\n</style>\n<table border=\"1\" class=\"dataframe\">\n  <thead>\n    <tr style=\"text-align: right;\">\n      <th></th>\n      <th>Age</th>\n      <th>Tenure</th>\n      <th>Usage Frequency</th>\n      <th>Support Calls</th>\n      <th>Payment Delay</th>\n      <th>Total Spend</th>\n      <th>Last Interaction</th>\n      <th>Churn</th>\n    </tr>\n  </thead>\n  <tbody>\n    <tr>\n      <th>0</th>\n      <td>30.0</td>\n      <td>39.0</td>\n      <td>14.0</td>\n      <td>5.0</td>\n      <td>18.0</td>\n      <td>932.0</td>\n      <td>17.0</td>\n      <td>1.0</td>\n    </tr>\n    <tr>\n      <th>1</th>\n      <td>65.0</td>\n      <td>49.0</td>\n      <td>1.0</td>\n      <td>10.0</td>\n      <td>8.0</td>\n      <td>557.0</td>\n      <td>6.0</td>\n      <td>1.0</td>\n    </tr>\n    <tr>\n      <th>2</th>\n      <td>55.0</td>\n      <td>14.0</td>\n      <td>4.0</td>\n      <td>6.0</td>\n      <td>18.0</td>\n      <td>185.0</td>\n      <td>3.0</td>\n      <td>1.0</td>\n    </tr>\n    <tr>\n      <th>3</th>\n      <td>58.0</td>\n      <td>38.0</td>\n      <td>21.0</td>\n      <td>7.0</td>\n      <td>7.0</td>\n      <td>396.0</td>\n      <td>29.0</td>\n      <td>1.0</td>\n    </tr>\n    <tr>\n      <th>4</th>\n      <td>23.0</td>\n      <td>32.0</td>\n      <td>20.0</td>\n      <td>5.0</td>\n      <td>8.0</td>\n      <td>617.0</td>\n      <td>20.0</td>\n      <td>1.0</td>\n    </tr>\n  </tbody>\n</table>\n</div>"
     },
     "execution_count": 4,
     "metadata": {},
     "output_type": "execute_result"
    }
   ],
   "source": [
    "# remove id and categorical features\n",
    "train = train.drop(['CustomerID', 'Gender', 'Subscription Type', 'Contract Length'], axis=1)\n",
    "train.head()"
   ],
   "metadata": {
    "collapsed": false,
    "ExecuteTime": {
     "end_time": "2023-08-22T09:10:26.159415Z",
     "start_time": "2023-08-22T09:10:26.145056Z"
    }
   }
  },
  {
   "cell_type": "code",
   "execution_count": 5,
   "outputs": [
    {
     "data": {
      "text/plain": "   Age  Tenure  Usage Frequency  Support Calls  Payment Delay  Total Spend  \\\n0   22      25               14              4             27          598   \n1   41      28               28              7             13          584   \n2   47      27               10              2             29          757   \n3   35       9               12              5             17          232   \n4   53      58               24              9              2          533   \n\n   Last Interaction  Churn  \n0                 9      1  \n1                20      0  \n2                21      0  \n3                18      0  \n4                18      0  ",
      "text/html": "<div>\n<style scoped>\n    .dataframe tbody tr th:only-of-type {\n        vertical-align: middle;\n    }\n\n    .dataframe tbody tr th {\n        vertical-align: top;\n    }\n\n    .dataframe thead th {\n        text-align: right;\n    }\n</style>\n<table border=\"1\" class=\"dataframe\">\n  <thead>\n    <tr style=\"text-align: right;\">\n      <th></th>\n      <th>Age</th>\n      <th>Tenure</th>\n      <th>Usage Frequency</th>\n      <th>Support Calls</th>\n      <th>Payment Delay</th>\n      <th>Total Spend</th>\n      <th>Last Interaction</th>\n      <th>Churn</th>\n    </tr>\n  </thead>\n  <tbody>\n    <tr>\n      <th>0</th>\n      <td>22</td>\n      <td>25</td>\n      <td>14</td>\n      <td>4</td>\n      <td>27</td>\n      <td>598</td>\n      <td>9</td>\n      <td>1</td>\n    </tr>\n    <tr>\n      <th>1</th>\n      <td>41</td>\n      <td>28</td>\n      <td>28</td>\n      <td>7</td>\n      <td>13</td>\n      <td>584</td>\n      <td>20</td>\n      <td>0</td>\n    </tr>\n    <tr>\n      <th>2</th>\n      <td>47</td>\n      <td>27</td>\n      <td>10</td>\n      <td>2</td>\n      <td>29</td>\n      <td>757</td>\n      <td>21</td>\n      <td>0</td>\n    </tr>\n    <tr>\n      <th>3</th>\n      <td>35</td>\n      <td>9</td>\n      <td>12</td>\n      <td>5</td>\n      <td>17</td>\n      <td>232</td>\n      <td>18</td>\n      <td>0</td>\n    </tr>\n    <tr>\n      <th>4</th>\n      <td>53</td>\n      <td>58</td>\n      <td>24</td>\n      <td>9</td>\n      <td>2</td>\n      <td>533</td>\n      <td>18</td>\n      <td>0</td>\n    </tr>\n  </tbody>\n</table>\n</div>"
     },
     "execution_count": 5,
     "metadata": {},
     "output_type": "execute_result"
    }
   ],
   "source": [
    "test = test.drop(['CustomerID', 'Gender', 'Subscription Type', 'Contract Length'], axis=1)\n",
    "test.head()"
   ],
   "metadata": {
    "collapsed": false,
    "ExecuteTime": {
     "end_time": "2023-08-22T09:10:26.162233Z",
     "start_time": "2023-08-22T09:10:26.159611Z"
    }
   }
  },
  {
   "cell_type": "code",
   "execution_count": 6,
   "outputs": [
    {
     "data": {
      "text/plain": "Age                 1\nTenure              1\nUsage Frequency     1\nSupport Calls       1\nPayment Delay       1\nTotal Spend         1\nLast Interaction    1\nChurn               1\ndtype: int64"
     },
     "execution_count": 6,
     "metadata": {},
     "output_type": "execute_result"
    }
   ],
   "source": [
    "# check for missing values\n",
    "train.isnull().sum()"
   ],
   "metadata": {
    "collapsed": false,
    "ExecuteTime": {
     "end_time": "2023-08-22T09:10:26.177081Z",
     "start_time": "2023-08-22T09:10:26.162486Z"
    }
   }
  },
  {
   "cell_type": "code",
   "execution_count": 7,
   "outputs": [
    {
     "data": {
      "text/plain": "Age                 0\nTenure              0\nUsage Frequency     0\nSupport Calls       0\nPayment Delay       0\nTotal Spend         0\nLast Interaction    0\nChurn               0\ndtype: int64"
     },
     "execution_count": 7,
     "metadata": {},
     "output_type": "execute_result"
    }
   ],
   "source": [
    "# remove missing values\n",
    "train = train.dropna()\n",
    "train.isnull().sum()"
   ],
   "metadata": {
    "collapsed": false,
    "ExecuteTime": {
     "end_time": "2023-08-22T09:10:26.287981Z",
     "start_time": "2023-08-22T09:10:26.169054Z"
    }
   }
  },
  {
   "cell_type": "code",
   "execution_count": 8,
   "outputs": [
    {
     "data": {
      "text/plain": "Age                 0\nTenure              0\nUsage Frequency     0\nSupport Calls       0\nPayment Delay       0\nTotal Spend         0\nLast Interaction    0\nChurn               0\ndtype: int64"
     },
     "execution_count": 8,
     "metadata": {},
     "output_type": "execute_result"
    }
   ],
   "source": [
    "# check for missing values\n",
    "test.isnull().sum()"
   ],
   "metadata": {
    "collapsed": false,
    "ExecuteTime": {
     "end_time": "2023-08-22T09:10:26.292098Z",
     "start_time": "2023-08-22T09:10:26.189978Z"
    }
   }
  },
  {
   "cell_type": "code",
   "execution_count": 9,
   "outputs": [
    {
     "data": {
      "text/plain": "    Age  Tenure  Usage_Frequency  Support_Calls  Payment_Delay  Total_Spend  \\\n0  34.0    21.0             13.0            0.0           12.0       588.45   \n1  40.0    14.0              7.0            7.0            3.0       555.00   \n2  28.0    26.0             18.0            0.0           11.0       711.00   \n3  21.0    43.0             17.0            1.0            6.0       652.61   \n4  47.0    58.0              8.0           10.0            8.0       701.00   \n\n   Last_Interaction  Churn  \n0              26.0    0.0  \n1               6.0    1.0  \n2              12.0    1.0  \n3              14.0    0.0  \n4              18.0    1.0  ",
      "text/html": "<div>\n<style scoped>\n    .dataframe tbody tr th:only-of-type {\n        vertical-align: middle;\n    }\n\n    .dataframe tbody tr th {\n        vertical-align: top;\n    }\n\n    .dataframe thead th {\n        text-align: right;\n    }\n</style>\n<table border=\"1\" class=\"dataframe\">\n  <thead>\n    <tr style=\"text-align: right;\">\n      <th></th>\n      <th>Age</th>\n      <th>Tenure</th>\n      <th>Usage_Frequency</th>\n      <th>Support_Calls</th>\n      <th>Payment_Delay</th>\n      <th>Total_Spend</th>\n      <th>Last_Interaction</th>\n      <th>Churn</th>\n    </tr>\n  </thead>\n  <tbody>\n    <tr>\n      <th>0</th>\n      <td>34.0</td>\n      <td>21.0</td>\n      <td>13.0</td>\n      <td>0.0</td>\n      <td>12.0</td>\n      <td>588.45</td>\n      <td>26.0</td>\n      <td>0.0</td>\n    </tr>\n    <tr>\n      <th>1</th>\n      <td>40.0</td>\n      <td>14.0</td>\n      <td>7.0</td>\n      <td>7.0</td>\n      <td>3.0</td>\n      <td>555.00</td>\n      <td>6.0</td>\n      <td>1.0</td>\n    </tr>\n    <tr>\n      <th>2</th>\n      <td>28.0</td>\n      <td>26.0</td>\n      <td>18.0</td>\n      <td>0.0</td>\n      <td>11.0</td>\n      <td>711.00</td>\n      <td>12.0</td>\n      <td>1.0</td>\n    </tr>\n    <tr>\n      <th>3</th>\n      <td>21.0</td>\n      <td>43.0</td>\n      <td>17.0</td>\n      <td>1.0</td>\n      <td>6.0</td>\n      <td>652.61</td>\n      <td>14.0</td>\n      <td>0.0</td>\n    </tr>\n    <tr>\n      <th>4</th>\n      <td>47.0</td>\n      <td>58.0</td>\n      <td>8.0</td>\n      <td>10.0</td>\n      <td>8.0</td>\n      <td>701.00</td>\n      <td>18.0</td>\n      <td>1.0</td>\n    </tr>\n  </tbody>\n</table>\n</div>"
     },
     "execution_count": 9,
     "metadata": {},
     "output_type": "execute_result"
    }
   ],
   "source": [
    "# shuffle the training data\n",
    "train = train.sample(frac=1).reset_index(drop=True)\n",
    "\n",
    "# Remove whitespace from column names\n",
    "train.columns = train.columns.str.replace(' ', '_')\n",
    "test.columns = test.columns.str.replace(' ', '_')\n",
    "\n",
    "train.head()"
   ],
   "metadata": {
    "collapsed": false,
    "ExecuteTime": {
     "end_time": "2023-08-22T09:10:26.326711Z",
     "start_time": "2023-08-22T09:10:26.194374Z"
    }
   }
  },
  {
   "cell_type": "code",
   "execution_count": 10,
   "outputs": [],
   "source": [
    "# Prepare train and test data\n",
    "X_train = train.drop(['Churn'], axis=1)\n",
    "y_train = train['Churn']\n",
    "\n",
    "X_test = test.drop(['Churn'], axis=1)\n",
    "y_test = test['Churn']"
   ],
   "metadata": {
    "collapsed": false,
    "ExecuteTime": {
     "end_time": "2023-08-22T09:10:26.327104Z",
     "start_time": "2023-08-22T09:10:26.225663Z"
    }
   }
  },
  {
   "cell_type": "code",
   "execution_count": 11,
   "outputs": [
    {
     "data": {
      "text/plain": "array([[-0.43184376, -0.59437352, -0.32697621, ..., -0.11694302,\n        -0.17925969,  1.34002638],\n       [ 0.05038005, -1.00003639, -1.02576935, ..., -1.20678827,\n        -0.31817008, -0.98658361],\n       [-0.91406757, -0.30461432,  0.25535141, ..., -0.23803693,\n         0.32966311, -0.28860061],\n       ...,\n       [ 0.21112132, -0.88413271,  1.07061008, ...,  0.85180832,\n         0.51753474,  1.22369588],\n       [ 0.45223323,  1.37598901,  0.02242036, ...,  2.06274748,\n        -0.63224459,  1.57268738],\n       [-0.35147312, -1.4636511 ,  1.53647218, ...,  0.36743265,\n        -0.47693074, -1.56823611]])"
     },
     "execution_count": 11,
     "metadata": {},
     "output_type": "execute_result"
    }
   ],
   "source": [
    "# Standardize the data\n",
    "from sklearn.preprocessing import StandardScaler\n",
    "\n",
    "scaler = StandardScaler()\n",
    "scaler.fit(X_train)\n",
    "X_train_standardized = scaler.transform(X_train)\n",
    "X_test_standardized = scaler.transform(X_test)\n",
    "X_train_standardized"
   ],
   "metadata": {
    "collapsed": false,
    "ExecuteTime": {
     "end_time": "2023-08-22T09:10:28.281456Z",
     "start_time": "2023-08-22T09:10:26.228344Z"
    }
   }
  },
  {
   "cell_type": "code",
   "execution_count": 12,
   "outputs": [
    {
     "data": {
      "text/plain": "array([[0.05756436, 0.03555446, 0.0220099 , ..., 0.02031683, 0.99628674,\n        0.04401981],\n       [0.07184629, 0.0251462 , 0.0125731 , ..., 0.00538847, 0.99686731,\n        0.01077694],\n       [0.03930158, 0.03649433, 0.0252653 , ..., 0.01543991, 0.99797952,\n        0.01684354],\n       ...,\n       [0.05535981, 0.02108945, 0.03295227, ..., 0.02636181, 0.9967929 ,\n        0.03295227],\n       [0.09245772, 0.11300388, 0.03287386, ..., 0.06163848, 0.98492129,\n        0.05752925],\n       [0.06743009, 0.01155944, 0.05587065, ..., 0.03082518, 0.99559566,\n        0.00192657]])"
     },
     "execution_count": 12,
     "metadata": {},
     "output_type": "execute_result"
    }
   ],
   "source": [
    "# Normalize the data\n",
    "from sklearn.preprocessing import Normalizer\n",
    "\n",
    "normalizer = Normalizer()\n",
    "normalizer.fit(X_train)\n",
    "X_train_normalized = normalizer.transform(X_train)\n",
    "X_test_normalized = normalizer.transform(X_test)\n",
    "X_train_normalized"
   ],
   "metadata": {
    "collapsed": false,
    "ExecuteTime": {
     "end_time": "2023-08-22T09:10:28.281821Z",
     "start_time": "2023-08-22T09:10:28.268430Z"
    }
   }
  },
  {
   "cell_type": "code",
   "execution_count": 13,
   "outputs": [
    {
     "data": {
      "text/plain": "array([[-0.42957994, -0.18171387],\n       [ 0.23635742,  0.03218061],\n       [-1.36661211, -0.39248482],\n       ...,\n       [ 0.54271946, -1.3909549 ],\n       [ 2.85436971,  0.9734226 ],\n       [-0.19490458, -2.09539107]])"
     },
     "execution_count": 13,
     "metadata": {},
     "output_type": "execute_result"
    }
   ],
   "source": [
    "# Perform PCA on the standardized data\n",
    "from sklearn.decomposition import PCA\n",
    "\n",
    "pca = PCA(n_components=2)\n",
    "pca.fit(X_train_standardized)\n",
    "X_train_pc_standardized = pca.transform(X_train_standardized)\n",
    "X_test_pc_standardized = pca.transform(X_test_standardized)\n",
    "X_train_pc_standardized"
   ],
   "metadata": {
    "collapsed": false,
    "ExecuteTime": {
     "end_time": "2023-08-22T09:10:29.794497Z",
     "start_time": "2023-08-22T09:10:28.282103Z"
    }
   }
  },
  {
   "cell_type": "code",
   "execution_count": 14,
   "outputs": [
    {
     "data": {
      "text/plain": "array([[-0.0337127 ,  0.0089594 ],\n       [-0.04231455,  0.02028051],\n       [-0.05306384, -0.00446572],\n       ...,\n       [-0.0414243 ,  0.02035586],\n       [ 0.05219764, -0.02878614],\n       [-0.03903332,  0.03440126]])"
     },
     "execution_count": 14,
     "metadata": {},
     "output_type": "execute_result"
    }
   ],
   "source": [
    "# Perform PCA on the normalized data\n",
    "pca = PCA(n_components=2)\n",
    "pca.fit(X_train_normalized)\n",
    "X_train_pc_normalized = pca.transform(X_train_normalized)\n",
    "X_test_pc_normalized = pca.transform(X_test_normalized)\n",
    "X_train_pc_normalized"
   ],
   "metadata": {
    "collapsed": false,
    "ExecuteTime": {
     "end_time": "2023-08-22T09:10:31.451230Z",
     "start_time": "2023-08-22T09:10:29.796458Z"
    }
   }
  },
  {
   "cell_type": "code",
   "execution_count": 15,
   "outputs": [
    {
     "data": {
      "text/plain": "<Figure size 1000x500 with 2 Axes>",
      "image/png": "[encoded data removed]"
     },
     "metadata": {},
     "output_type": "display_data"
    }
   ],
   "source": [
    "# Plot the data\n",
    "import matplotlib.pyplot as plt\n",
    "\n",
    "nr_samples = 1000\n",
    "plot_idx = 1\n",
    "fig = plt.figure(figsize=(10, 5))\n",
    "\n",
    "for pc_data, title in zip([X_train_pc_standardized, X_train_pc_normalized], ['Standardized', 'Normalized']):\n",
    "    # 3D if n_components > 2\n",
    "    if pca.n_components > 2:\n",
    "        ax = fig.add_subplot(1, 2, plot_idx, projection='3d')\n",
    "        ax.scatter(pc_data[:nr_samples, 0], pc_data[:nr_samples, 1], pc_data[:nr_samples, 2],\n",
    "                   c=y_train[:nr_samples],\n",
    "                   cmap='brg')\n",
    "        ax.set_zlabel('PC3')\n",
    "    else:\n",
    "        ax = fig.add_subplot(1, 2, plot_idx)\n",
    "        ax.scatter(pc_data[:nr_samples, 0], pc_data[:nr_samples, 1], c=y_train[:nr_samples],\n",
    "                   cmap='brg')\n",
    "    ax.set_xlabel('PC1')\n",
    "    ax.set_ylabel('PC2')\n",
    "    ax.set_title(title)\n",
    "    plot_idx += 1\n",
    "\n",
    "plt.show()"
   ],
   "metadata": {
    "collapsed": false,
    "ExecuteTime": {
     "end_time": "2023-08-22T09:10:32.085985Z",
     "start_time": "2023-08-22T09:10:31.428871Z"
    }
   }
  },
  {
   "cell_type": "code",
   "execution_count": 16,
   "outputs": [
    {
     "name": "stdout",
     "output_type": "stream",
     "text": [
      "Train accuracy: 0.8287669679152149\n",
      "Test accuracy: 0.5885916674433778\n"
     ]
    }
   ],
   "source": [
    "# Train a logistic regression model with principal components from standardized data\n",
    "from sklearn.linear_model import LogisticRegression\n",
    "\n",
    "logreg = LogisticRegression()\n",
    "logreg.fit(X_train_pc_standardized, y_train)\n",
    "\n",
    "# Evaluate the model\n",
    "print(\"Train accuracy:\", logreg.score(X_train_pc_standardized, y_train))\n",
    "print(\"Test accuracy:\", logreg.score(X_test_pc_standardized, y_test))"
   ],
   "metadata": {
    "collapsed": false,
    "ExecuteTime": {
     "end_time": "2023-08-22T09:10:32.411680Z",
     "start_time": "2023-08-22T09:10:32.088761Z"
    }
   }
  },
  {
   "cell_type": "code",
   "execution_count": 17,
   "outputs": [
    {
     "name": "stdout",
     "output_type": "stream",
     "text": [
      "Train accuracy: 0.7162411077235772\n",
      "Test accuracy: 0.540497716469382\n"
     ]
    }
   ],
   "source": [
    "# Train a logistic regression model with principal components from normalized data\n",
    "logreg = LogisticRegression()\n",
    "logreg.fit(X_train_pc_normalized, y_train)\n",
    "\n",
    "# Evaluate the model\n",
    "print(\"Train accuracy:\", logreg.score(X_train_pc_normalized, y_train))\n",
    "print(\"Test accuracy:\", logreg.score(X_test_pc_normalized, y_test))"
   ],
   "metadata": {
    "collapsed": false,
    "ExecuteTime": {
     "end_time": "2023-08-22T09:10:33.029426Z",
     "start_time": "2023-08-22T09:10:32.430690Z"
    }
   }
  },
  {
   "cell_type": "code",
   "execution_count": 18,
   "outputs": [
    {
     "name": "stdout",
     "output_type": "stream",
     "text": [
      "Train accuracy: 0.8440970709930313\n",
      "Test accuracy: 0.5864324106005531\n"
     ]
    }
   ],
   "source": [
    "# Train a logistic regression model with all features\n",
    "logreg = LogisticRegression()\n",
    "logreg.fit(X_train_standardized, y_train)\n",
    "\n",
    "# Evaluate the model\n",
    "print(\"Train accuracy:\", logreg.score(X_train_standardized, y_train))\n",
    "print(\"Test accuracy:\", logreg.score(X_test_standardized, y_test))"
   ],
   "metadata": {
    "collapsed": false,
    "ExecuteTime": {
     "end_time": "2023-08-22T09:10:33.304404Z",
     "start_time": "2023-08-22T09:10:32.973517Z"
    }
   }
  },
  {
   "cell_type": "code",
   "execution_count": 19,
   "outputs": [
    {
     "data": {
      "text/plain": "    Age  Tenure  Usage_Frequency  Support_Calls  Payment_Delay  Total_Spend  \\\n0  34.0    21.0             13.0            0.0           12.0       588.45   \n1  40.0    14.0              7.0            7.0            3.0       555.00   \n2  28.0    26.0             18.0            0.0           11.0       711.00   \n3  21.0    43.0             17.0            1.0            6.0       652.61   \n4  47.0    58.0              8.0           10.0            8.0       701.00   \n\n   Last_Interaction  \n0              26.0  \n1               6.0  \n2              12.0  \n3              14.0  \n4              18.0  ",
      "text/html": "<div>\n<style scoped>\n    .dataframe tbody tr th:only-of-type {\n        vertical-align: middle;\n    }\n\n    .dataframe tbody tr th {\n        vertical-align: top;\n    }\n\n    .dataframe thead th {\n        text-align: right;\n    }\n</style>\n<table border=\"1\" class=\"dataframe\">\n  <thead>\n    <tr style=\"text-align: right;\">\n      <th></th>\n      <th>Age</th>\n      <th>Tenure</th>\n      <th>Usage_Frequency</th>\n      <th>Support_Calls</th>\n      <th>Payment_Delay</th>\n      <th>Total_Spend</th>\n      <th>Last_Interaction</th>\n    </tr>\n  </thead>\n  <tbody>\n    <tr>\n      <th>0</th>\n      <td>34.0</td>\n      <td>21.0</td>\n      <td>13.0</td>\n      <td>0.0</td>\n      <td>12.0</td>\n      <td>588.45</td>\n      <td>26.0</td>\n    </tr>\n    <tr>\n      <th>1</th>\n      <td>40.0</td>\n      <td>14.0</td>\n      <td>7.0</td>\n      <td>7.0</td>\n      <td>3.0</td>\n      <td>555.00</td>\n      <td>6.0</td>\n    </tr>\n    <tr>\n      <th>2</th>\n      <td>28.0</td>\n      <td>26.0</td>\n      <td>18.0</td>\n      <td>0.0</td>\n      <td>11.0</td>\n      <td>711.00</td>\n      <td>12.0</td>\n    </tr>\n    <tr>\n      <th>3</th>\n      <td>21.0</td>\n      <td>43.0</td>\n      <td>17.0</td>\n      <td>1.0</td>\n      <td>6.0</td>\n      <td>652.61</td>\n      <td>14.0</td>\n    </tr>\n    <tr>\n      <th>4</th>\n      <td>47.0</td>\n      <td>58.0</td>\n      <td>8.0</td>\n      <td>10.0</td>\n      <td>8.0</td>\n      <td>701.00</td>\n      <td>18.0</td>\n    </tr>\n  </tbody>\n</table>\n</div>"
     },
     "execution_count": 19,
     "metadata": {},
     "output_type": "execute_result"
    }
   ],
   "source": [
    "# Do PCA using duckDB\n",
    "import duckdb\n",
    "\n",
    "con = duckdb.connect()\n",
    "\n",
    "# Load the data from CSV\n",
    "con.execute('create table churn as select * from X_train')\n",
    "\n",
    "# Return the first 5 rows\n",
    "con.execute('select * from churn limit 5').fetchdf()"
   ],
   "metadata": {
    "collapsed": false,
    "ExecuteTime": {
     "end_time": "2023-08-22T09:10:33.565733Z",
     "start_time": "2023-08-22T09:10:33.302279Z"
    }
   }
  },
  {
   "cell_type": "code",
   "execution_count": 20,
   "outputs": [
    {
     "name": "stdout",
     "output_type": "stream",
     "text": [
      "Computing variance for column: Age\n",
      "Variance: 154.8122073645793\n",
      "Computing variance for column: Tenure\n",
      "Variance: 297.75945213654813\n",
      "Computing variance for column: Usage_Frequency\n",
      "Variance: 73.72337835225596\n",
      "Computing variance for column: Support_Calls\n",
      "Variance: 9.426216433645134\n",
      "Computing variance for column: Payment_Delay\n",
      "Variance: 68.19544184549517\n",
      "Computing variance for column: Total_Spend\n",
      "Variance: 57985.95381084544\n",
      "Computing variance for column: Last_Interaction\n",
      "Variance: 73.89461890395972\n",
      "Average time: 0.00046430601392473495\n"
     ]
    }
   ],
   "source": [
    "import time\n",
    "\n",
    "# Compute the variance for each column using duckDB\n",
    "times = []\n",
    "for col_normalized in X_train.columns:\n",
    "    print(\"Computing variance for column:\", col_normalized)\n",
    "    query = f'select avg({col_normalized} * {col_normalized}) - avg({col_normalized}) * avg({col_normalized}) as var from churn'\n",
    "    var = con.execute(query).fetchone()[0]\n",
    "    print(\"Variance:\", var)\n",
    "\n",
    "    for i in range(1000):\n",
    "        start = time.time()\n",
    "        con.execute(query).fetchone()\n",
    "        end = time.time()\n",
    "        times.append(end - start)\n",
    "print(\"Average time:\", sum(times) / len(times))"
   ],
   "metadata": {
    "collapsed": false,
    "ExecuteTime": {
     "end_time": "2023-08-22T09:10:36.836079Z",
     "start_time": "2023-08-22T09:10:33.560960Z"
    }
   }
  },
  {
   "cell_type": "code",
   "execution_count": 21,
   "outputs": [
    {
     "name": "stdout",
     "output_type": "stream",
     "text": [
      "Computing variance for column: Age\n",
      "Variance: 154.81255854724856\n",
      "Computing variance for column: Tenure\n",
      "Variance: 297.7601275868955\n",
      "Computing variance for column: Usage_Frequency\n",
      "Variance: 73.72354558953818\n",
      "Computing variance for column: Support_Calls\n",
      "Variance: 9.426237816479903\n",
      "Computing variance for column: Payment_Delay\n",
      "Variance: 68.19559654296847\n",
      "Computing variance for column: Total_Spend\n",
      "Variance: 57986.08534867258\n",
      "Computing variance for column: Last_Interaction\n",
      "Variance: 73.89478652969137\n",
      "Average time: 0.0014674886294773646\n"
     ]
    }
   ],
   "source": [
    "# Compute the variance for Age using pandas\n",
    "times = []\n",
    "for col_normalized in X_train.columns:\n",
    "    print(\"Computing variance for column:\", col_normalized)\n",
    "    var = X_train[col_normalized].var()\n",
    "    print(\"Variance:\", var)\n",
    "\n",
    "    for i in range(1000):\n",
    "        start = time.time()\n",
    "        X_train[col_normalized].var()\n",
    "        end = time.time()\n",
    "        times.append(end - start)\n",
    "print(\"Average time:\", sum(times) / len(times))"
   ],
   "metadata": {
    "collapsed": false,
    "ExecuteTime": {
     "end_time": "2023-08-22T09:10:47.128177Z",
     "start_time": "2023-08-22T09:10:36.831514Z"
    }
   }
  },
  {
   "cell_type": "code",
   "execution_count": 22,
   "outputs": [
    {
     "name": "stdout",
     "output_type": "stream",
     "text": [
      "Decomposing column: Age\n",
      "Relative RMSE:  0.000634647271309273\n",
      "Decomposing column: Tenure\n",
      "Relative RMSE:  0.0009160164084932562\n",
      "Decomposing column: Usage_Frequency\n",
      "Relative RMSE:  0.0011540881017398296\n",
      "Decomposing column: Support_Calls\n",
      "Relative RMSE:  0.00041382324813892007\n",
      "Decomposing column: Payment_Delay\n",
      "Relative RMSE:  0.001459579478540105\n",
      "Decomposing column: Total_Spend\n",
      "Relative RMSE:  3.8323651009151486e-05\n",
      "Decomposing column: Last_Interaction\n",
      "Relative RMSE:  0.0011112547964621624\n"
     ]
    }
   ],
   "source": [
    "from src.kronecker import massaged_svd, compute_shapes, kronecker_decomposition\n",
    "\n",
    "# Decompose each column separately using pandas and numpy\n",
    "rank = 10\n",
    "krone_shapes = compute_shapes((X_train.shape[0], 1))\n",
    "a_matrix_individual = np.zeros((krone_shapes[0][0], rank * X_train.shape[1]))\n",
    "b_matrix_individual = np.zeros((krone_shapes[1][0], rank * X_train.shape[1]))\n",
    "nr_cols = X_train.shape[1]\n",
    "\n",
    "for col_idx, col_name in enumerate(X_train.columns):\n",
    "    print(\"Decomposing column:\", col_name)\n",
    "    col_normalized = X_train[col_name].values\n",
    "    col_normalized = np.sort(col_normalized)\n",
    "    # Compute the shapes\n",
    "    col_normalized = np.atleast_2d(col_normalized).T\n",
    "\n",
    "    # Perform the decomposition\n",
    "    u, s, v = massaged_svd(col_normalized, krone_shapes[0])\n",
    "\n",
    "    # Compute the kronecker product decomposition\n",
    "    a_s, b_s = kronecker_decomposition(u, s, v, krone_shapes[0], krone_shapes[1], k=rank)\n",
    "\n",
    "    # Store the results\n",
    "    col_approx = np.zeros(col_normalized.shape)\n",
    "    for r in range(rank):\n",
    "        a_matrix_individual[:, col_idx + r * nr_cols] = a_s[r][:, 0]\n",
    "        b_matrix_individual[:, col_idx + r * nr_cols] = b_s[r][:, 0]\n",
    "        col_approx += np.kron(a_s[r], b_s[r])\n",
    "\n",
    "    # Compute the error\n",
    "    print(\"Relative RMSE: \", np.sqrt(np.mean((col_normalized - col_approx) ** 2)) / np.mean(np.abs(col_normalized)))"
   ],
   "metadata": {
    "collapsed": false,
    "ExecuteTime": {
     "end_time": "2023-08-22T09:10:49.528586Z",
     "start_time": "2023-08-22T09:10:47.123866Z"
    }
   }
  },
  {
   "cell_type": "code",
   "execution_count": 23,
   "outputs": [
    {
     "data": {
      "text/plain": "     Age_0  Tenure_0  Usage_Frequency_0  Support_Calls_0  Payment_Delay_0  \\\n0  2.81809   0.16837           0.237201     0.000000e+00     0.000000e+00   \n1  2.81809   0.16837           0.237201     3.236817e-13    -3.701326e-13   \n2  2.81809   0.16837           0.237201     0.000000e+00     0.000000e+00   \n3  2.81809   0.16837           0.237201     0.000000e+00     0.000000e+00   \n4  2.81809   0.16837           0.237201     0.000000e+00     0.000000e+00   \n\n   Total_Spend_0  Last_Interaction_0     Age_1  Tenure_1  Usage_Frequency_1  \\\n0       3.916338            0.245158  0.031878   0.00205           0.002547   \n1       4.013357            0.245158  0.031878   0.00205           0.002547   \n2       4.106115            0.245158  0.031878   0.00205           0.002547   \n3       4.198751            0.245158  0.031878   0.00205           0.002547   \n4       4.287366            0.245158  0.031878   0.00205           0.002547   \n\n   ...  Payment_Delay_8  Total_Spend_8  Last_Interaction_8     Age_9  \\\n0  ...     0.000000e+00      -0.337211            0.000211  0.000339   \n1  ...     2.897557e-12       0.421527            0.000211  0.000339   \n2  ...     3.286273e-14      -0.352405            0.000211  0.000339   \n3  ...    -3.561247e-14      -0.044501            0.000211  0.000339   \n4  ...    -1.840984e-14       0.106588            0.000211  0.000339   \n\n   Tenure_9  Usage_Frequency_9  Support_Calls_9  Payment_Delay_9  \\\n0 -0.000008           0.000073     0.000000e+00     0.000000e+00   \n1 -0.000008           0.000073    -3.967126e-13     2.394264e-12   \n2 -0.000008           0.000073     1.271340e-14     7.133847e-14   \n3 -0.000008           0.000073    -8.016997e-14     3.569386e-14   \n4 -0.000008           0.000073    -2.990373e-14    -1.280645e-14   \n\n   Total_Spend_9  Last_Interaction_9  \n0       0.330138            -0.00017  \n1       0.060843            -0.00017  \n2       0.531136            -0.00017  \n3      -0.061146            -0.00017  \n4      -0.142000            -0.00017  \n\n[5 rows x 70 columns]",
      "text/html": "<div>\n<style scoped>\n    .dataframe tbody tr th:only-of-type {\n        vertical-align: middle;\n    }\n\n    .dataframe tbody tr th {\n        vertical-align: top;\n    }\n\n    .dataframe thead th {\n        text-align: right;\n    }\n</style>\n<table border=\"1\" class=\"dataframe\">\n  <thead>\n    <tr style=\"text-align: right;\">\n      <th></th>\n      <th>Age_0</th>\n      <th>Tenure_0</th>\n      <th>Usage_Frequency_0</th>\n      <th>Support_Calls_0</th>\n      <th>Payment_Delay_0</th>\n      <th>Total_Spend_0</th>\n      <th>Last_Interaction_0</th>\n      <th>Age_1</th>\n      <th>Tenure_1</th>\n      <th>Usage_Frequency_1</th>\n      <th>...</th>\n      <th>Payment_Delay_8</th>\n      <th>Total_Spend_8</th>\n      <th>Last_Interaction_8</th>\n      <th>Age_9</th>\n      <th>Tenure_9</th>\n      <th>Usage_Frequency_9</th>\n      <th>Support_Calls_9</th>\n      <th>Payment_Delay_9</th>\n      <th>Total_Spend_9</th>\n      <th>Last_Interaction_9</th>\n    </tr>\n  </thead>\n  <tbody>\n    <tr>\n      <th>0</th>\n      <td>2.81809</td>\n      <td>0.16837</td>\n      <td>0.237201</td>\n      <td>0.000000e+00</td>\n      <td>0.000000e+00</td>\n      <td>3.916338</td>\n      <td>0.245158</td>\n      <td>0.031878</td>\n      <td>0.00205</td>\n      <td>0.002547</td>\n      <td>...</td>\n      <td>0.000000e+00</td>\n      <td>-0.337211</td>\n      <td>0.000211</td>\n      <td>0.000339</td>\n      <td>-0.000008</td>\n      <td>0.000073</td>\n      <td>0.000000e+00</td>\n      <td>0.000000e+00</td>\n      <td>0.330138</td>\n      <td>-0.00017</td>\n    </tr>\n    <tr>\n      <th>1</th>\n      <td>2.81809</td>\n      <td>0.16837</td>\n      <td>0.237201</td>\n      <td>3.236817e-13</td>\n      <td>-3.701326e-13</td>\n      <td>4.013357</td>\n      <td>0.245158</td>\n      <td>0.031878</td>\n      <td>0.00205</td>\n      <td>0.002547</td>\n      <td>...</td>\n      <td>2.897557e-12</td>\n      <td>0.421527</td>\n      <td>0.000211</td>\n      <td>0.000339</td>\n      <td>-0.000008</td>\n      <td>0.000073</td>\n      <td>-3.967126e-13</td>\n      <td>2.394264e-12</td>\n      <td>0.060843</td>\n      <td>-0.00017</td>\n    </tr>\n    <tr>\n      <th>2</th>\n      <td>2.81809</td>\n      <td>0.16837</td>\n      <td>0.237201</td>\n      <td>0.000000e+00</td>\n      <td>0.000000e+00</td>\n      <td>4.106115</td>\n      <td>0.245158</td>\n      <td>0.031878</td>\n      <td>0.00205</td>\n      <td>0.002547</td>\n      <td>...</td>\n      <td>3.286273e-14</td>\n      <td>-0.352405</td>\n      <td>0.000211</td>\n      <td>0.000339</td>\n      <td>-0.000008</td>\n      <td>0.000073</td>\n      <td>1.271340e-14</td>\n      <td>7.133847e-14</td>\n      <td>0.531136</td>\n      <td>-0.00017</td>\n    </tr>\n    <tr>\n      <th>3</th>\n      <td>2.81809</td>\n      <td>0.16837</td>\n      <td>0.237201</td>\n      <td>0.000000e+00</td>\n      <td>0.000000e+00</td>\n      <td>4.198751</td>\n      <td>0.245158</td>\n      <td>0.031878</td>\n      <td>0.00205</td>\n      <td>0.002547</td>\n      <td>...</td>\n      <td>-3.561247e-14</td>\n      <td>-0.044501</td>\n      <td>0.000211</td>\n      <td>0.000339</td>\n      <td>-0.000008</td>\n      <td>0.000073</td>\n      <td>-8.016997e-14</td>\n      <td>3.569386e-14</td>\n      <td>-0.061146</td>\n      <td>-0.00017</td>\n    </tr>\n    <tr>\n      <th>4</th>\n      <td>2.81809</td>\n      <td>0.16837</td>\n      <td>0.237201</td>\n      <td>0.000000e+00</td>\n      <td>0.000000e+00</td>\n      <td>4.287366</td>\n      <td>0.245158</td>\n      <td>0.031878</td>\n      <td>0.00205</td>\n      <td>0.002547</td>\n      <td>...</td>\n      <td>-1.840984e-14</td>\n      <td>0.106588</td>\n      <td>0.000211</td>\n      <td>0.000339</td>\n      <td>-0.000008</td>\n      <td>0.000073</td>\n      <td>-2.990373e-14</td>\n      <td>-1.280645e-14</td>\n      <td>-0.142000</td>\n      <td>-0.00017</td>\n    </tr>\n  </tbody>\n</table>\n<p>5 rows × 70 columns</p>\n</div>"
     },
     "execution_count": 23,
     "metadata": {},
     "output_type": "execute_result"
    }
   ],
   "source": [
    "a_df = pd.DataFrame(a_matrix_individual,\n",
    "                    columns=[f'{col_name}_{r}' for r in range(rank) for col_name in X_train.columns])\n",
    "b_df = pd.DataFrame(b_matrix_individual,\n",
    "                    columns=[f'{col_name}_{r}' for r in range(rank) for col_name in X_train.columns])\n",
    "\n",
    "# Load the data\n",
    "con.execute('create or replace table churn_a as select * from a_df')\n",
    "con.execute('create or replace table churn_b as select * from b_df')\n",
    "\n",
    "# Return the first 5 rows\n",
    "con.execute('select * from churn_a limit 5').fetchdf()"
   ],
   "metadata": {
    "collapsed": false,
    "ExecuteTime": {
     "end_time": "2023-08-22T09:10:49.621237Z",
     "start_time": "2023-08-22T09:10:49.529845Z"
    }
   }
  },
  {
   "cell_type": "code",
   "execution_count": 24,
   "outputs": [
    {
     "name": "stdout",
     "output_type": "stream",
     "text": [
      "Computing variance for column: Age\n",
      "Variance: (154.8006472043851,)\n",
      "Computing variance for column: Tenure\n",
      "Variance: (297.7446322925458,)\n",
      "Computing variance for column: Usage_Frequency\n",
      "Variance: (73.71542647648923,)\n",
      "Computing variance for column: Support_Calls\n",
      "Variance: (9.423366666104151,)\n",
      "Computing variance for column: Payment_Delay\n",
      "Variance: (68.1878332100637,)\n",
      "Computing variance for column: Total_Spend\n",
      "Variance: (57985.79521146894,)\n",
      "Computing variance for column: Last_Interaction\n",
      "Variance: (73.8871711688628,)\n",
      "Average time: 0.0008398017372403826\n"
     ]
    }
   ],
   "source": [
    "# Compute the variances using duckDB and kronecker product\n",
    "for col_normalized in X_train.columns:\n",
    "    print(\"Computing variance for column:\", col_normalized)\n",
    "    query = f'select avg(a.{col_normalized}_0 * a.{col_normalized}_0) * avg(b.{col_normalized}_0 * b.{col_normalized}_0) - avg(a.{col_normalized}_0) * avg(b.{col_normalized}_0) * avg(a.{col_normalized}_0) * avg(b.{col_normalized}_0) as var from churn_a as a positional join churn_b as b'\n",
    "    var = con.execute(query).fetchone()\n",
    "    print(\"Variance:\", var)\n",
    "\n",
    "    for i in range(1000):\n",
    "        start = time.time()\n",
    "        con.execute(query).fetchone()\n",
    "        end = time.time()\n",
    "        times.append(end - start)\n",
    "\n",
    "print(\"Average time:\", sum(times) / len(times))"
   ],
   "metadata": {
    "collapsed": false,
    "ExecuteTime": {
     "end_time": "2023-08-22T09:10:51.115701Z",
     "start_time": "2023-08-22T09:10:49.616564Z"
    }
   }
  },
  {
   "cell_type": "code",
   "execution_count": 25,
   "outputs": [
    {
     "data": {
      "text/plain": "         Age  Tenure  Usage_Frequency  Support_Calls  Payment_Delay  \\\n73972   37.0    32.0             16.0            3.0           13.0   \n148306  42.0    33.0             15.0            4.0           15.0   \n413810  36.0    29.0             15.0            3.0           12.0   \n204638  41.0    33.0             16.0            4.0           13.0   \n362582  39.0    29.0             13.0            3.0           14.0   \n\n        Total_Spend  Last_Interaction  \n73972        592.33              15.0  \n148306       624.35              14.0  \n413810       642.83              13.0  \n204638       723.83              15.0  \n362582       598.99              16.0  ",
      "text/html": "<div>\n<style scoped>\n    .dataframe tbody tr th:only-of-type {\n        vertical-align: middle;\n    }\n\n    .dataframe tbody tr th {\n        vertical-align: top;\n    }\n\n    .dataframe thead th {\n        text-align: right;\n    }\n</style>\n<table border=\"1\" class=\"dataframe\">\n  <thead>\n    <tr style=\"text-align: right;\">\n      <th></th>\n      <th>Age</th>\n      <th>Tenure</th>\n      <th>Usage_Frequency</th>\n      <th>Support_Calls</th>\n      <th>Payment_Delay</th>\n      <th>Total_Spend</th>\n      <th>Last_Interaction</th>\n    </tr>\n  </thead>\n  <tbody>\n    <tr>\n      <th>73972</th>\n      <td>37.0</td>\n      <td>32.0</td>\n      <td>16.0</td>\n      <td>3.0</td>\n      <td>13.0</td>\n      <td>592.33</td>\n      <td>15.0</td>\n    </tr>\n    <tr>\n      <th>148306</th>\n      <td>42.0</td>\n      <td>33.0</td>\n      <td>15.0</td>\n      <td>4.0</td>\n      <td>15.0</td>\n      <td>624.35</td>\n      <td>14.0</td>\n    </tr>\n    <tr>\n      <th>413810</th>\n      <td>36.0</td>\n      <td>29.0</td>\n      <td>15.0</td>\n      <td>3.0</td>\n      <td>12.0</td>\n      <td>642.83</td>\n      <td>13.0</td>\n    </tr>\n    <tr>\n      <th>204638</th>\n      <td>41.0</td>\n      <td>33.0</td>\n      <td>16.0</td>\n      <td>4.0</td>\n      <td>13.0</td>\n      <td>723.83</td>\n      <td>15.0</td>\n    </tr>\n    <tr>\n      <th>362582</th>\n      <td>39.0</td>\n      <td>29.0</td>\n      <td>13.0</td>\n      <td>3.0</td>\n      <td>14.0</td>\n      <td>598.99</td>\n      <td>16.0</td>\n    </tr>\n  </tbody>\n</table>\n</div>"
     },
     "execution_count": 25,
     "metadata": {},
     "output_type": "execute_result"
    }
   ],
   "source": [
    "# Calculate the global sort order based on the vector length of each tuple using the standardized data\n",
    "global_sort_order_standardized = np.argsort(np.linalg.norm(X_train_standardized, axis=1))\n",
    "\n",
    "# Sort the data\n",
    "X_train_sorted_by_standardized = X_train.iloc[global_sort_order_standardized]\n",
    "\n",
    "# Print the first 5 rows\n",
    "X_train_sorted_by_standardized.head()"
   ],
   "metadata": {
    "collapsed": false,
    "ExecuteTime": {
     "end_time": "2023-08-22T09:10:51.179067Z",
     "start_time": "2023-08-22T09:10:51.112993Z"
    }
   }
  },
  {
   "cell_type": "code",
   "execution_count": 26,
   "outputs": [
    {
     "data": {
      "text/plain": "         Age  Tenure  Usage_Frequency  Support_Calls  Payment_Delay  \\\n440831  35.0     6.0             29.0            3.0           16.0   \n22978   36.0    40.0             18.0            3.0           12.0   \n252870  18.0     6.0              4.0            0.0           15.0   \n252912  44.0     2.0             29.0            1.0            3.0   \n418682  46.0     5.0              3.0            5.0           30.0   \n\n        Total_Spend  Last_Interaction  \n440831       516.77               1.0  \n22978        644.73              14.0  \n252870       326.00               3.0  \n252912       542.49              19.0  \n418682       686.00              10.0  ",
      "text/html": "<div>\n<style scoped>\n    .dataframe tbody tr th:only-of-type {\n        vertical-align: middle;\n    }\n\n    .dataframe tbody tr th {\n        vertical-align: top;\n    }\n\n    .dataframe thead th {\n        text-align: right;\n    }\n</style>\n<table border=\"1\" class=\"dataframe\">\n  <thead>\n    <tr style=\"text-align: right;\">\n      <th></th>\n      <th>Age</th>\n      <th>Tenure</th>\n      <th>Usage_Frequency</th>\n      <th>Support_Calls</th>\n      <th>Payment_Delay</th>\n      <th>Total_Spend</th>\n      <th>Last_Interaction</th>\n    </tr>\n  </thead>\n  <tbody>\n    <tr>\n      <th>440831</th>\n      <td>35.0</td>\n      <td>6.0</td>\n      <td>29.0</td>\n      <td>3.0</td>\n      <td>16.0</td>\n      <td>516.77</td>\n      <td>1.0</td>\n    </tr>\n    <tr>\n      <th>22978</th>\n      <td>36.0</td>\n      <td>40.0</td>\n      <td>18.0</td>\n      <td>3.0</td>\n      <td>12.0</td>\n      <td>644.73</td>\n      <td>14.0</td>\n    </tr>\n    <tr>\n      <th>252870</th>\n      <td>18.0</td>\n      <td>6.0</td>\n      <td>4.0</td>\n      <td>0.0</td>\n      <td>15.0</td>\n      <td>326.00</td>\n      <td>3.0</td>\n    </tr>\n    <tr>\n      <th>252912</th>\n      <td>44.0</td>\n      <td>2.0</td>\n      <td>29.0</td>\n      <td>1.0</td>\n      <td>3.0</td>\n      <td>542.49</td>\n      <td>19.0</td>\n    </tr>\n    <tr>\n      <th>418682</th>\n      <td>46.0</td>\n      <td>5.0</td>\n      <td>3.0</td>\n      <td>5.0</td>\n      <td>30.0</td>\n      <td>686.00</td>\n      <td>10.0</td>\n    </tr>\n  </tbody>\n</table>\n</div>"
     },
     "execution_count": 26,
     "metadata": {},
     "output_type": "execute_result"
    }
   ],
   "source": [
    "# Calculate the global sort order based on the vector length of each tuple using the normalized data\n",
    "global_sort_order_normalized = np.argsort(np.linalg.norm(X_train_normalized, axis=1))\n",
    "\n",
    "# Sort the data\n",
    "X_train_sorted_by_normalized = X_train.iloc[global_sort_order_normalized]\n",
    "\n",
    "# Print the first 5 rows\n",
    "X_train_sorted_by_normalized.head()"
   ],
   "metadata": {
    "collapsed": false,
    "ExecuteTime": {
     "end_time": "2023-08-22T09:10:51.200228Z",
     "start_time": "2023-08-22T09:10:51.172968Z"
    }
   }
  },
  {
   "cell_type": "code",
   "execution_count": 27,
   "outputs": [
    {
     "name": "stdout",
     "output_type": "stream",
     "text": [
      "Decomposing column: Age\n",
      "Relative RMSE standardized:  0.3022998574725026\n",
      "Relative RMSE normalized:  0.30732986738423085\n",
      "Decomposing column: Tenure\n",
      "Relative RMSE standardized:  0.5354241464642059\n",
      "Relative RMSE normalized:  0.5369392249600832\n",
      "Decomposing column: Usage_Frequency\n",
      "Relative RMSE standardized:  0.5270023313616485\n",
      "Relative RMSE normalized:  0.5283206359916048\n",
      "Decomposing column: Support_Calls\n",
      "Relative RMSE standardized:  0.745574159866799\n",
      "Relative RMSE normalized:  0.8283926648647189\n",
      "Decomposing column: Payment_Delay\n",
      "Relative RMSE standardized:  0.600624253341177\n",
      "Relative RMSE normalized:  0.619409098362802\n",
      "Decomposing column: Total_Spend\n",
      "Relative RMSE standardized:  0.3495831284187646\n",
      "Relative RMSE normalized:  0.37070504193479514\n",
      "Decomposing column: Last_Interaction\n",
      "Relative RMSE standardized:  0.5718170584356776\n",
      "Relative RMSE normalized:  0.5773526652123985\n"
     ]
    }
   ],
   "source": [
    "# Compute the shapes\n",
    "rank = 10\n",
    "krone_shapes = compute_shapes((X_train.shape[0], 1))\n",
    "a_matrix_global_std = np.zeros((krone_shapes[0][0], rank * X_train.shape[1]))\n",
    "b_matrix_global_std = np.zeros((krone_shapes[1][0], rank * X_train.shape[1]))\n",
    "a_matrix_global_norm = np.zeros((krone_shapes[0][0], rank * X_train.shape[1]))\n",
    "b_matrix_global_norm = np.zeros((krone_shapes[1][0], rank * X_train.shape[1]))\n",
    "nr_cols = X_train.shape[1]\n",
    "\n",
    "# Perform the decomposition\n",
    "for col_idx, col_name in enumerate(X_train.columns):\n",
    "    print(\"Decomposing column:\", col_name)\n",
    "    col_standardized = X_train_sorted_by_standardized[col_name].values\n",
    "    col_normalized = X_train_sorted_by_normalized[col_name].values\n",
    "\n",
    "    # Compute the shapes\n",
    "    col_standardized = np.atleast_2d(col_standardized).T\n",
    "    col_normalized = np.atleast_2d(col_normalized).T\n",
    "\n",
    "    # Perform the decomposition\n",
    "    u_std, s_std, v_std = massaged_svd(col_standardized, krone_shapes[0])\n",
    "    u_norm, s_norm, v_norm = massaged_svd(col_normalized, krone_shapes[0])\n",
    "\n",
    "    # Compute the kronecker product decomposition\n",
    "    a_s_std, b_s_std = kronecker_decomposition(u_std, s_std, v_std, krone_shapes[0], krone_shapes[1], k=rank)\n",
    "    a_s_norm, b_s_norm = kronecker_decomposition(u_norm, s_norm, v_norm, krone_shapes[0], krone_shapes[1], k=rank)\n",
    "\n",
    "    # Store the results\n",
    "    col_approx_std = np.zeros(col_standardized.shape)\n",
    "    col_approx_norm = np.zeros(col_normalized.shape)\n",
    "\n",
    "    for r in range(rank):\n",
    "        a_matrix_global_std[:, col_idx + r * nr_cols] = a_s_std[r][:, 0]\n",
    "        b_matrix_global_std[:, col_idx + r * nr_cols] = b_s_std[r][:, 0]\n",
    "        col_approx_std += np.kron(a_s_std[r], b_s_std[r])\n",
    "\n",
    "        a_matrix_global_norm[:, col_idx + r * nr_cols] = a_s_norm[r][:, 0]\n",
    "        b_matrix_global_norm[:, col_idx + r * nr_cols] = b_s_norm[r][:, 0]\n",
    "        col_approx_norm += np.kron(a_s_norm[r], b_s_norm[r])\n",
    "\n",
    "    rmse_std = np.sqrt(np.mean((col_standardized - col_approx_std) ** 2)) / np.mean(np.abs(col_standardized))\n",
    "    rmse_norm = np.sqrt(np.mean((col_normalized - col_approx_norm) ** 2)) / np.mean(np.abs(col_normalized))\n",
    "\n",
    "    # Compute the error\n",
    "    print(\"Relative RMSE standardized: \", rmse_std)\n",
    "    print(\"Relative RMSE normalized: \", rmse_norm)"
   ],
   "metadata": {
    "collapsed": false,
    "ExecuteTime": {
     "end_time": "2023-08-22T09:10:56.713726Z",
     "start_time": "2023-08-22T09:10:51.199760Z"
    }
   }
  },
  {
   "cell_type": "code",
   "execution_count": 28,
   "outputs": [
    {
     "data": {
      "text/plain": "         Age  Tenure  Usage_Frequency  Support_Calls  Payment_Delay  \\\n187708  20.0    59.0             24.0            0.0            0.0   \n198787  21.0    45.0             28.0            0.0            0.0   \n38402   20.0    32.0             27.0            0.0            0.0   \n108647  22.0    55.0             30.0            0.0            1.0   \n187857  21.0    41.0             23.0            0.0            0.0   \n\n        Total_Spend  Last_Interaction  \n187708       955.86               3.0  \n198787       976.69               3.0  \n38402        964.56               2.0  \n108647       999.97               6.0  \n187857       976.14               3.0  ",
      "text/html": "<div>\n<style scoped>\n    .dataframe tbody tr th:only-of-type {\n        vertical-align: middle;\n    }\n\n    .dataframe tbody tr th {\n        vertical-align: top;\n    }\n\n    .dataframe thead th {\n        text-align: right;\n    }\n</style>\n<table border=\"1\" class=\"dataframe\">\n  <thead>\n    <tr style=\"text-align: right;\">\n      <th></th>\n      <th>Age</th>\n      <th>Tenure</th>\n      <th>Usage_Frequency</th>\n      <th>Support_Calls</th>\n      <th>Payment_Delay</th>\n      <th>Total_Spend</th>\n      <th>Last_Interaction</th>\n    </tr>\n  </thead>\n  <tbody>\n    <tr>\n      <th>187708</th>\n      <td>20.0</td>\n      <td>59.0</td>\n      <td>24.0</td>\n      <td>0.0</td>\n      <td>0.0</td>\n      <td>955.86</td>\n      <td>3.0</td>\n    </tr>\n    <tr>\n      <th>198787</th>\n      <td>21.0</td>\n      <td>45.0</td>\n      <td>28.0</td>\n      <td>0.0</td>\n      <td>0.0</td>\n      <td>976.69</td>\n      <td>3.0</td>\n    </tr>\n    <tr>\n      <th>38402</th>\n      <td>20.0</td>\n      <td>32.0</td>\n      <td>27.0</td>\n      <td>0.0</td>\n      <td>0.0</td>\n      <td>964.56</td>\n      <td>2.0</td>\n    </tr>\n    <tr>\n      <th>108647</th>\n      <td>22.0</td>\n      <td>55.0</td>\n      <td>30.0</td>\n      <td>0.0</td>\n      <td>1.0</td>\n      <td>999.97</td>\n      <td>6.0</td>\n    </tr>\n    <tr>\n      <th>187857</th>\n      <td>21.0</td>\n      <td>41.0</td>\n      <td>23.0</td>\n      <td>0.0</td>\n      <td>0.0</td>\n      <td>976.14</td>\n      <td>3.0</td>\n    </tr>\n  </tbody>\n</table>\n</div>"
     },
     "execution_count": 28,
     "metadata": {},
     "output_type": "execute_result"
    }
   ],
   "source": [
    "# Sort all tuples using a global sort order bsed on the projection onto the first principal component\n",
    "global_sort_order = np.argsort(X_train_pc_standardized[:, 0])\n",
    "\n",
    "# Sort the data\n",
    "X_train_sorted_by_pc = X_train.iloc[global_sort_order]\n",
    "\n",
    "# Print the first 5 rows\n",
    "X_train_sorted_by_pc.head()"
   ],
   "metadata": {
    "collapsed": false,
    "ExecuteTime": {
     "end_time": "2023-08-22T09:10:56.775684Z",
     "start_time": "2023-08-22T09:10:56.713345Z"
    }
   }
  },
  {
   "cell_type": "code",
   "execution_count": 29,
   "outputs": [
    {
     "name": "stdout",
     "output_type": "stream",
     "text": [
      "Decomposing column: Age\n",
      "Relative RMSE:  0.2716439181060936\n",
      "Decomposing column: Tenure\n",
      "Relative RMSE:  0.5339522792406465\n",
      "Decomposing column: Usage_Frequency\n",
      "Relative RMSE:  0.5263297689583848\n",
      "Decomposing column: Support_Calls\n",
      "Relative RMSE:  0.5766861661991755\n",
      "Decomposing column: Payment_Delay\n",
      "Relative RMSE:  0.528935649552289\n",
      "Decomposing column: Total_Spend\n",
      "Relative RMSE:  0.29117825338318076\n",
      "Decomposing column: Last_Interaction\n",
      "Relative RMSE:  0.5519094423983847\n"
     ]
    }
   ],
   "source": [
    "# Compute the shapes\n",
    "rank = 10\n",
    "krone_shapes = compute_shapes((X_train.shape[0], 1))\n",
    "a_matrix_global_pc = np.zeros((krone_shapes[0][0], rank * X_train.shape[1]))\n",
    "b_matrix_global_pc = np.zeros((krone_shapes[1][0], rank * X_train.shape[1]))\n",
    "nr_cols = X_train.shape[1]\n",
    "\n",
    "# Perform the decomposition\n",
    "for col_name in X_train.columns:\n",
    "    print(\"Decomposing column:\", col_name)\n",
    "    col = X_train_sorted_by_pc[col_name].values\n",
    "\n",
    "    # Compute the shapes\n",
    "    col = np.atleast_2d(col).T\n",
    "\n",
    "    # Perform the decomposition\n",
    "    u, s, v = massaged_svd(col, krone_shapes[0])\n",
    "\n",
    "    # Compute the kronecker product decomposition\n",
    "    a_s, b_s = kronecker_decomposition(u, s, v, krone_shapes[0], krone_shapes[1], k=rank)\n",
    "\n",
    "    # Store the results\n",
    "    col_approx = np.zeros(col.shape)\n",
    "\n",
    "    for r in range(rank):\n",
    "        a_matrix_global_pc[:, col_idx + r * nr_cols] = a_s[r][:, 0]\n",
    "        b_matrix_global_pc[:, col_idx + r * nr_cols] = b_s[r][:, 0]\n",
    "        col_approx += np.kron(a_s[r], b_s[r])\n",
    "\n",
    "    rmse = np.sqrt(np.mean((col - col_approx) ** 2)) / np.mean(np.abs(col))\n",
    "\n",
    "    # Compute the error\n",
    "    print(\"Relative RMSE: \", rmse)"
   ],
   "metadata": {
    "collapsed": false,
    "ExecuteTime": {
     "end_time": "2023-08-22T09:10:59.489806Z",
     "start_time": "2023-08-22T09:10:56.777464Z"
    }
   }
  },
  {
   "cell_type": "code",
   "execution_count": 32,
   "outputs": [
    {
     "name": "stdout",
     "output_type": "stream",
     "text": [
      "<class 'pandas.core.frame.DataFrame'>\n",
      "RangeIndex: 3085824 entries, 0 to 3085823\n",
      "Data columns (total 2 columns):\n",
      " #   Column       Dtype  \n",
      "---  ------       -----  \n",
      " 0   column_name  int64  \n",
      " 1   value        float64\n",
      "dtypes: float64(1), int64(1)\n",
      "memory usage: 47.1 MB\n"
     ]
    }
   ],
   "source": [
    "# Pivot the standardized data such that the column names are stored in a column and the values in another column\n",
    "X_train_pivoted = pd.DataFrame(X_train_standardized).melt(var_name='column_name', value_name='value')\n",
    "X_train_pivoted.info()"
   ],
   "metadata": {
    "collapsed": false,
    "ExecuteTime": {
     "end_time": "2023-08-22T09:12:23.428567Z",
     "start_time": "2023-08-22T09:12:23.370301Z"
    }
   }
  },
  {
   "cell_type": "code",
   "execution_count": null,
   "outputs": [],
   "source": [],
   "metadata": {
    "collapsed": false,
    "ExecuteTime": {
     "end_time": "2023-08-22T09:10:59.586125Z",
     "start_time": "2023-08-22T09:10:59.581026Z"
    }
   }
  }
 ],
 "metadata": {
  "kernelspec": {
   "display_name": "Python 3",
   "language": "python",
   "name": "python3"
  },
  "language_info": {
   "codemirror_mode": {
    "name": "ipython",
    "version": 2
   },
   "file_extension": ".py",
   "mimetype": "text/x-python",
   "name": "python",
   "nbconvert_exporter": "python",
   "pygments_lexer": "ipython2",
   "version": "2.7.6"
  }
 },
 "nbformat": 4,
 "nbformat_minor": 0
}
