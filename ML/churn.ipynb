{
 "cells": [
  {
   "cell_type": "code",
   "execution_count": 133,
   "outputs": [
    {
     "data": {
      "text/plain": "   CustomerID   Age  Gender  Tenure  Usage Frequency  Support Calls  \\\n0         2.0  30.0  Female    39.0             14.0            5.0   \n1         3.0  65.0  Female    49.0              1.0           10.0   \n2         4.0  55.0  Female    14.0              4.0            6.0   \n3         5.0  58.0    Male    38.0             21.0            7.0   \n4         6.0  23.0    Male    32.0             20.0            5.0   \n\n   Payment Delay Subscription Type Contract Length  Total Spend  \\\n0           18.0          Standard          Annual        932.0   \n1            8.0             Basic         Monthly        557.0   \n2           18.0             Basic       Quarterly        185.0   \n3            7.0          Standard         Monthly        396.0   \n4            8.0             Basic         Monthly        617.0   \n\n   Last Interaction  Churn  \n0              17.0    1.0  \n1               6.0    1.0  \n2               3.0    1.0  \n3              29.0    1.0  \n4              20.0    1.0  ",
      "text/html": "<div>\n<style scoped>\n    .dataframe tbody tr th:only-of-type {\n        vertical-align: middle;\n    }\n\n    .dataframe tbody tr th {\n        vertical-align: top;\n    }\n\n    .dataframe thead th {\n        text-align: right;\n    }\n</style>\n<table border=\"1\" class=\"dataframe\">\n  <thead>\n    <tr style=\"text-align: right;\">\n      <th></th>\n      <th>CustomerID</th>\n      <th>Age</th>\n      <th>Gender</th>\n      <th>Tenure</th>\n      <th>Usage Frequency</th>\n      <th>Support Calls</th>\n      <th>Payment Delay</th>\n      <th>Subscription Type</th>\n      <th>Contract Length</th>\n      <th>Total Spend</th>\n      <th>Last Interaction</th>\n      <th>Churn</th>\n    </tr>\n  </thead>\n  <tbody>\n    <tr>\n      <th>0</th>\n      <td>2.0</td>\n      <td>30.0</td>\n      <td>Female</td>\n      <td>39.0</td>\n      <td>14.0</td>\n      <td>5.0</td>\n      <td>18.0</td>\n      <td>Standard</td>\n      <td>Annual</td>\n      <td>932.0</td>\n      <td>17.0</td>\n      <td>1.0</td>\n    </tr>\n    <tr>\n      <th>1</th>\n      <td>3.0</td>\n      <td>65.0</td>\n      <td>Female</td>\n      <td>49.0</td>\n      <td>1.0</td>\n      <td>10.0</td>\n      <td>8.0</td>\n      <td>Basic</td>\n      <td>Monthly</td>\n      <td>557.0</td>\n      <td>6.0</td>\n      <td>1.0</td>\n    </tr>\n    <tr>\n      <th>2</th>\n      <td>4.0</td>\n      <td>55.0</td>\n      <td>Female</td>\n      <td>14.0</td>\n      <td>4.0</td>\n      <td>6.0</td>\n      <td>18.0</td>\n      <td>Basic</td>\n      <td>Quarterly</td>\n      <td>185.0</td>\n      <td>3.0</td>\n      <td>1.0</td>\n    </tr>\n    <tr>\n      <th>3</th>\n      <td>5.0</td>\n      <td>58.0</td>\n      <td>Male</td>\n      <td>38.0</td>\n      <td>21.0</td>\n      <td>7.0</td>\n      <td>7.0</td>\n      <td>Standard</td>\n      <td>Monthly</td>\n      <td>396.0</td>\n      <td>29.0</td>\n      <td>1.0</td>\n    </tr>\n    <tr>\n      <th>4</th>\n      <td>6.0</td>\n      <td>23.0</td>\n      <td>Male</td>\n      <td>32.0</td>\n      <td>20.0</td>\n      <td>5.0</td>\n      <td>8.0</td>\n      <td>Basic</td>\n      <td>Monthly</td>\n      <td>617.0</td>\n      <td>20.0</td>\n      <td>1.0</td>\n    </tr>\n  </tbody>\n</table>\n</div>"
     },
     "execution_count": 133,
     "metadata": {},
     "output_type": "execute_result"
    }
   ],
   "source": [
    "import numpy as np\n",
    "import pandas as pd\n",
    "\n",
    "# Load the data\n",
    "train = pd.read_csv(\"input/customer_churn_dataset-training-master.csv\")\n",
    "test = pd.read_csv(\"input/customer_churn_dataset-testing-master.csv\")\n",
    "train.head()"
   ],
   "metadata": {
    "collapsed": false,
    "ExecuteTime": {
     "end_time": "2023-08-08T11:33:47.378381900Z",
     "start_time": "2023-08-08T11:33:47.102385500Z"
    }
   }
  },
  {
   "cell_type": "code",
   "execution_count": 134,
   "outputs": [
    {
     "data": {
      "text/plain": "    Age  Tenure  Usage Frequency  Support Calls  Payment Delay  Total Spend  \\\n0  30.0    39.0             14.0            5.0           18.0        932.0   \n1  65.0    49.0              1.0           10.0            8.0        557.0   \n2  55.0    14.0              4.0            6.0           18.0        185.0   \n3  58.0    38.0             21.0            7.0            7.0        396.0   \n4  23.0    32.0             20.0            5.0            8.0        617.0   \n\n   Last Interaction  Churn  \n0              17.0    1.0  \n1               6.0    1.0  \n2               3.0    1.0  \n3              29.0    1.0  \n4              20.0    1.0  ",
      "text/html": "<div>\n<style scoped>\n    .dataframe tbody tr th:only-of-type {\n        vertical-align: middle;\n    }\n\n    .dataframe tbody tr th {\n        vertical-align: top;\n    }\n\n    .dataframe thead th {\n        text-align: right;\n    }\n</style>\n<table border=\"1\" class=\"dataframe\">\n  <thead>\n    <tr style=\"text-align: right;\">\n      <th></th>\n      <th>Age</th>\n      <th>Tenure</th>\n      <th>Usage Frequency</th>\n      <th>Support Calls</th>\n      <th>Payment Delay</th>\n      <th>Total Spend</th>\n      <th>Last Interaction</th>\n      <th>Churn</th>\n    </tr>\n  </thead>\n  <tbody>\n    <tr>\n      <th>0</th>\n      <td>30.0</td>\n      <td>39.0</td>\n      <td>14.0</td>\n      <td>5.0</td>\n      <td>18.0</td>\n      <td>932.0</td>\n      <td>17.0</td>\n      <td>1.0</td>\n    </tr>\n    <tr>\n      <th>1</th>\n      <td>65.0</td>\n      <td>49.0</td>\n      <td>1.0</td>\n      <td>10.0</td>\n      <td>8.0</td>\n      <td>557.0</td>\n      <td>6.0</td>\n      <td>1.0</td>\n    </tr>\n    <tr>\n      <th>2</th>\n      <td>55.0</td>\n      <td>14.0</td>\n      <td>4.0</td>\n      <td>6.0</td>\n      <td>18.0</td>\n      <td>185.0</td>\n      <td>3.0</td>\n      <td>1.0</td>\n    </tr>\n    <tr>\n      <th>3</th>\n      <td>58.0</td>\n      <td>38.0</td>\n      <td>21.0</td>\n      <td>7.0</td>\n      <td>7.0</td>\n      <td>396.0</td>\n      <td>29.0</td>\n      <td>1.0</td>\n    </tr>\n    <tr>\n      <th>4</th>\n      <td>23.0</td>\n      <td>32.0</td>\n      <td>20.0</td>\n      <td>5.0</td>\n      <td>8.0</td>\n      <td>617.0</td>\n      <td>20.0</td>\n      <td>1.0</td>\n    </tr>\n  </tbody>\n</table>\n</div>"
     },
     "execution_count": 134,
     "metadata": {},
     "output_type": "execute_result"
    }
   ],
   "source": [
    "# remove id and categorical features\n",
    "train = train.drop(['CustomerID', 'Gender', 'Subscription Type', 'Contract Length'], axis=1)\n",
    "train.head()"
   ],
   "metadata": {
    "collapsed": false,
    "ExecuteTime": {
     "end_time": "2023-08-08T11:33:47.401382400Z",
     "start_time": "2023-08-08T11:33:47.380382600Z"
    }
   }
  },
  {
   "cell_type": "code",
   "execution_count": 135,
   "outputs": [
    {
     "data": {
      "text/plain": "   Age  Tenure  Usage Frequency  Support Calls  Payment Delay  Total Spend  \\\n0   22      25               14              4             27          598   \n1   41      28               28              7             13          584   \n2   47      27               10              2             29          757   \n3   35       9               12              5             17          232   \n4   53      58               24              9              2          533   \n\n   Last Interaction  Churn  \n0                 9      1  \n1                20      0  \n2                21      0  \n3                18      0  \n4                18      0  ",
      "text/html": "<div>\n<style scoped>\n    .dataframe tbody tr th:only-of-type {\n        vertical-align: middle;\n    }\n\n    .dataframe tbody tr th {\n        vertical-align: top;\n    }\n\n    .dataframe thead th {\n        text-align: right;\n    }\n</style>\n<table border=\"1\" class=\"dataframe\">\n  <thead>\n    <tr style=\"text-align: right;\">\n      <th></th>\n      <th>Age</th>\n      <th>Tenure</th>\n      <th>Usage Frequency</th>\n      <th>Support Calls</th>\n      <th>Payment Delay</th>\n      <th>Total Spend</th>\n      <th>Last Interaction</th>\n      <th>Churn</th>\n    </tr>\n  </thead>\n  <tbody>\n    <tr>\n      <th>0</th>\n      <td>22</td>\n      <td>25</td>\n      <td>14</td>\n      <td>4</td>\n      <td>27</td>\n      <td>598</td>\n      <td>9</td>\n      <td>1</td>\n    </tr>\n    <tr>\n      <th>1</th>\n      <td>41</td>\n      <td>28</td>\n      <td>28</td>\n      <td>7</td>\n      <td>13</td>\n      <td>584</td>\n      <td>20</td>\n      <td>0</td>\n    </tr>\n    <tr>\n      <th>2</th>\n      <td>47</td>\n      <td>27</td>\n      <td>10</td>\n      <td>2</td>\n      <td>29</td>\n      <td>757</td>\n      <td>21</td>\n      <td>0</td>\n    </tr>\n    <tr>\n      <th>3</th>\n      <td>35</td>\n      <td>9</td>\n      <td>12</td>\n      <td>5</td>\n      <td>17</td>\n      <td>232</td>\n      <td>18</td>\n      <td>0</td>\n    </tr>\n    <tr>\n      <th>4</th>\n      <td>53</td>\n      <td>58</td>\n      <td>24</td>\n      <td>9</td>\n      <td>2</td>\n      <td>533</td>\n      <td>18</td>\n      <td>0</td>\n    </tr>\n  </tbody>\n</table>\n</div>"
     },
     "execution_count": 135,
     "metadata": {},
     "output_type": "execute_result"
    }
   ],
   "source": [
    "test = test.drop(['CustomerID', 'Gender', 'Subscription Type', 'Contract Length'], axis=1)\n",
    "test.head()"
   ],
   "metadata": {
    "collapsed": false,
    "ExecuteTime": {
     "end_time": "2023-08-08T11:33:47.479961900Z",
     "start_time": "2023-08-08T11:33:47.394382800Z"
    }
   }
  },
  {
   "cell_type": "code",
   "execution_count": 136,
   "outputs": [
    {
     "data": {
      "text/plain": "Age                 1\nTenure              1\nUsage Frequency     1\nSupport Calls       1\nPayment Delay       1\nTotal Spend         1\nLast Interaction    1\nChurn               1\ndtype: int64"
     },
     "execution_count": 136,
     "metadata": {},
     "output_type": "execute_result"
    }
   ],
   "source": [
    "# check for missing values\n",
    "train.isnull().sum()"
   ],
   "metadata": {
    "collapsed": false,
    "ExecuteTime": {
     "end_time": "2023-08-08T11:33:47.529961600Z",
     "start_time": "2023-08-08T11:33:47.410384600Z"
    }
   }
  },
  {
   "cell_type": "code",
   "execution_count": 137,
   "outputs": [
    {
     "data": {
      "text/plain": "Age                 0\nTenure              0\nUsage Frequency     0\nSupport Calls       0\nPayment Delay       0\nTotal Spend         0\nLast Interaction    0\nChurn               0\ndtype: int64"
     },
     "execution_count": 137,
     "metadata": {},
     "output_type": "execute_result"
    }
   ],
   "source": [
    "# remove missing values\n",
    "train = train.dropna()\n",
    "train.isnull().sum()"
   ],
   "metadata": {
    "collapsed": false,
    "ExecuteTime": {
     "end_time": "2023-08-08T11:33:47.530961900Z",
     "start_time": "2023-08-08T11:33:47.427381600Z"
    }
   }
  },
  {
   "cell_type": "code",
   "execution_count": 138,
   "outputs": [
    {
     "data": {
      "text/plain": "Age                 0\nTenure              0\nUsage Frequency     0\nSupport Calls       0\nPayment Delay       0\nTotal Spend         0\nLast Interaction    0\nChurn               0\ndtype: int64"
     },
     "execution_count": 138,
     "metadata": {},
     "output_type": "execute_result"
    }
   ],
   "source": [
    "# check for missing values\n",
    "test.isnull().sum()"
   ],
   "metadata": {
    "collapsed": false,
    "ExecuteTime": {
     "end_time": "2023-08-08T11:33:47.530961900Z",
     "start_time": "2023-08-08T11:33:47.455963700Z"
    }
   }
  },
  {
   "cell_type": "code",
   "execution_count": 139,
   "outputs": [
    {
     "data": {
      "text/plain": "    Age  Tenure  Usage_Frequency  Support_Calls  Payment_Delay  Total_Spend  \\\n0  43.0    53.0              7.0            2.0            4.0       452.00   \n1  33.0    50.0             13.0            0.0            1.0       557.48   \n2  33.0    39.0             17.0            4.0           13.0       319.42   \n3  38.0    17.0             25.0            0.0           16.0       573.80   \n4  19.0    20.0              2.0            5.0           15.0       931.00   \n\n   Last_Interaction  Churn  \n0              23.0    1.0  \n1              17.0    0.0  \n2               6.0    1.0  \n3               9.0    0.0  \n4               8.0    1.0  ",
      "text/html": "<div>\n<style scoped>\n    .dataframe tbody tr th:only-of-type {\n        vertical-align: middle;\n    }\n\n    .dataframe tbody tr th {\n        vertical-align: top;\n    }\n\n    .dataframe thead th {\n        text-align: right;\n    }\n</style>\n<table border=\"1\" class=\"dataframe\">\n  <thead>\n    <tr style=\"text-align: right;\">\n      <th></th>\n      <th>Age</th>\n      <th>Tenure</th>\n      <th>Usage_Frequency</th>\n      <th>Support_Calls</th>\n      <th>Payment_Delay</th>\n      <th>Total_Spend</th>\n      <th>Last_Interaction</th>\n      <th>Churn</th>\n    </tr>\n  </thead>\n  <tbody>\n    <tr>\n      <th>0</th>\n      <td>43.0</td>\n      <td>53.0</td>\n      <td>7.0</td>\n      <td>2.0</td>\n      <td>4.0</td>\n      <td>452.00</td>\n      <td>23.0</td>\n      <td>1.0</td>\n    </tr>\n    <tr>\n      <th>1</th>\n      <td>33.0</td>\n      <td>50.0</td>\n      <td>13.0</td>\n      <td>0.0</td>\n      <td>1.0</td>\n      <td>557.48</td>\n      <td>17.0</td>\n      <td>0.0</td>\n    </tr>\n    <tr>\n      <th>2</th>\n      <td>33.0</td>\n      <td>39.0</td>\n      <td>17.0</td>\n      <td>4.0</td>\n      <td>13.0</td>\n      <td>319.42</td>\n      <td>6.0</td>\n      <td>1.0</td>\n    </tr>\n    <tr>\n      <th>3</th>\n      <td>38.0</td>\n      <td>17.0</td>\n      <td>25.0</td>\n      <td>0.0</td>\n      <td>16.0</td>\n      <td>573.80</td>\n      <td>9.0</td>\n      <td>0.0</td>\n    </tr>\n    <tr>\n      <th>4</th>\n      <td>19.0</td>\n      <td>20.0</td>\n      <td>2.0</td>\n      <td>5.0</td>\n      <td>15.0</td>\n      <td>931.00</td>\n      <td>8.0</td>\n      <td>1.0</td>\n    </tr>\n  </tbody>\n</table>\n</div>"
     },
     "execution_count": 139,
     "metadata": {},
     "output_type": "execute_result"
    }
   ],
   "source": [
    "# shuffle the training data\n",
    "train = train.sample(frac=1).reset_index(drop=True)\n",
    "\n",
    "# Remove whitespace from column names\n",
    "train.columns = train.columns.str.replace(' ', '_')\n",
    "test.columns = test.columns.str.replace(' ', '_')\n",
    "\n",
    "train.head()"
   ],
   "metadata": {
    "collapsed": false,
    "ExecuteTime": {
     "end_time": "2023-08-08T11:33:47.591962700Z",
     "start_time": "2023-08-08T11:33:47.473962Z"
    }
   }
  },
  {
   "cell_type": "code",
   "execution_count": 140,
   "outputs": [],
   "source": [
    "# Prepare train and test data\n",
    "X_train = train.drop(['Churn'], axis=1)\n",
    "y_train = train['Churn']\n",
    "\n",
    "X_test = test.drop(['Churn'], axis=1)\n",
    "y_test = test['Churn']"
   ],
   "metadata": {
    "collapsed": false,
    "ExecuteTime": {
     "end_time": "2023-08-08T11:33:47.593961700Z",
     "start_time": "2023-08-08T11:33:47.528962600Z"
    }
   }
  },
  {
   "cell_type": "code",
   "execution_count": 141,
   "outputs": [
    {
     "data": {
      "text/plain": "array([[ 0.29149196,  1.26008533, -1.02576935, ..., -1.08569435,\n        -0.7459061 ,  0.99103488],\n       [-0.51221439,  1.08622981, -0.32697621, ..., -1.4489761 ,\n        -0.30787119,  0.29305188],\n       [-0.51221439,  0.44875958,  0.13888589, ...,  0.0041509 ,\n        -1.29648125, -0.98658361],\n       ...,\n       [ 0.8540864 , -1.7534103 , -1.2587004 , ..., -0.7224126 ,\n         1.40107955, -0.40493111],\n       [-1.39629137,  0.21695223,  0.60474798, ...,  0.12524482,\n        -0.28648439,  1.45635688],\n       [ 0.29149196,  0.97032613,  1.42000665, ...,  0.60962048,\n        -0.21601177,  0.52571288]])"
     },
     "execution_count": 141,
     "metadata": {},
     "output_type": "execute_result"
    }
   ],
   "source": [
    "# Standardize the data\n",
    "from sklearn.preprocessing import StandardScaler\n",
    "\n",
    "scaler = StandardScaler()\n",
    "scaler.fit(X_train)\n",
    "X_train_standardized = scaler.transform(X_train)\n",
    "X_test_standardized = scaler.transform(X_test)\n",
    "X_train_standardized"
   ],
   "metadata": {
    "collapsed": false,
    "ExecuteTime": {
     "end_time": "2023-08-08T11:33:47.636966300Z",
     "start_time": "2023-08-08T11:33:47.538963400Z"
    }
   }
  },
  {
   "cell_type": "code",
   "execution_count": 142,
   "outputs": [
    {
     "data": {
      "text/plain": "array([[0.09393215, 0.11577684, 0.01529128, ..., 0.00873787, 0.9873798 ,\n        0.05024278],\n       [0.05881316, 0.08911085, 0.02316882, ..., 0.00178222, 0.99355037,\n        0.03029769],\n       [0.10176796, 0.12027123, 0.05242592, ..., 0.04009041, 0.98505221,\n        0.01850327],\n       ...,\n       [0.05152542, 0.00103051, 0.00515254, ..., 0.00721356, 0.99856268,\n        0.01133559],\n       [0.03891347, 0.06190779, 0.03714467, ..., 0.02476312, 0.99517653,\n        0.04775744],\n       [0.07357556, 0.08213086, 0.04790967, ..., 0.03079907, 0.99173011,\n        0.03251013]])"
     },
     "execution_count": 142,
     "metadata": {},
     "output_type": "execute_result"
    }
   ],
   "source": [
    "# Normalize the data\n",
    "from sklearn.preprocessing import Normalizer\n",
    "\n",
    "normalizer = Normalizer()\n",
    "normalizer.fit(X_train)\n",
    "X_train_normalized = normalizer.transform(X_train)\n",
    "X_test_normalized = normalizer.transform(X_test)\n",
    "X_train_normalized"
   ],
   "metadata": {
    "collapsed": false,
    "ExecuteTime": {
     "end_time": "2023-08-08T11:33:47.663961700Z",
     "start_time": "2023-08-08T11:33:47.583964500Z"
    }
   }
  },
  {
   "cell_type": "code",
   "execution_count": 143,
   "outputs": [
    {
     "data": {
      "text/plain": "array([[-0.08572568,  1.60466381],\n       [-1.34818843,  0.98416052],\n       [ 0.26954422,  0.25142488],\n       ...,\n       [-0.68200436, -0.37167026],\n       [-0.5480166 , -0.26196684],\n       [ 0.12194544, -0.33360566]])"
     },
     "execution_count": 143,
     "metadata": {},
     "output_type": "execute_result"
    }
   ],
   "source": [
    "# Perform PCA on the standardized data\n",
    "from sklearn.decomposition import PCA\n",
    "\n",
    "pca = PCA(n_components=2)\n",
    "pca.fit(X_train_standardized)\n",
    "X_train_pc_standardized = pca.transform(X_train_standardized)\n",
    "X_test_pc_standardized = pca.transform(X_test_standardized)\n",
    "X_train_pc_standardized"
   ],
   "metadata": {
    "collapsed": false,
    "ExecuteTime": {
     "end_time": "2023-08-08T11:33:47.911962700Z",
     "start_time": "2023-08-08T11:33:47.617963300Z"
    }
   }
  },
  {
   "cell_type": "code",
   "execution_count": 144,
   "outputs": [
    {
     "data": {
      "text/plain": "array([[ 0.03434805, -0.03819948],\n       [-0.01068335, -0.03738355],\n       [ 0.0518155 , -0.03392793],\n       ...,\n       [-0.07160338,  0.02834627],\n       [-0.02643337, -0.02067885],\n       [ 0.00954166, -0.01823767]])"
     },
     "execution_count": 144,
     "metadata": {},
     "output_type": "execute_result"
    }
   ],
   "source": [
    "# Perform PCA on the normalized data\n",
    "pca = PCA(n_components=2)\n",
    "pca.fit(X_train_normalized)\n",
    "X_train_pc_normalized = pca.transform(X_train_normalized)\n",
    "X_test_pc_normalized = pca.transform(X_test_normalized)\n",
    "X_train_pc_normalized"
   ],
   "metadata": {
    "collapsed": false,
    "ExecuteTime": {
     "end_time": "2023-08-08T11:33:48.196962900Z",
     "start_time": "2023-08-08T11:33:47.912962600Z"
    }
   }
  },
  {
   "cell_type": "code",
   "execution_count": 145,
   "outputs": [
    {
     "data": {
      "text/plain": "<Figure size 1000x500 with 2 Axes>",
      "image/png": "[encoded data removed]"
     },
     "metadata": {},
     "output_type": "display_data"
    }
   ],
   "source": [
    "# Plot the data\n",
    "import matplotlib.pyplot as plt\n",
    "\n",
    "nr_samples = 1000\n",
    "plot_idx = 1\n",
    "fig = plt.figure(figsize=(10, 5))\n",
    "\n",
    "for pc_data, title in zip([X_train_pc_standardized, X_train_pc_normalized], ['Standardized', 'Normalized']):\n",
    "    # 3D if n_components > 2\n",
    "    if pca.n_components > 2:\n",
    "        ax = fig.add_subplot(1, 2, plot_idx, projection='3d')\n",
    "        ax.scatter(pc_data[:nr_samples, 0], pc_data[:nr_samples, 1], pc_data[:nr_samples, 2],\n",
    "                   c=y_train[:nr_samples],\n",
    "                   cmap='brg')\n",
    "        ax.set_zlabel('PC3')\n",
    "    else:\n",
    "        ax = fig.add_subplot(1, 2, plot_idx)\n",
    "        ax.scatter(pc_data[:nr_samples, 0], pc_data[:nr_samples, 1], c=y_train[:nr_samples],\n",
    "                   cmap='brg')\n",
    "    ax.set_xlabel('PC1')\n",
    "    ax.set_ylabel('PC2')\n",
    "    ax.set_title(title)\n",
    "    plot_idx += 1\n",
    "\n",
    "plt.show()"
   ],
   "metadata": {
    "collapsed": false,
    "ExecuteTime": {
     "end_time": "2023-08-08T11:33:48.383962800Z",
     "start_time": "2023-08-08T11:33:48.199963Z"
    }
   }
  },
  {
   "cell_type": "code",
   "execution_count": 146,
   "outputs": [
    {
     "name": "stdout",
     "output_type": "stream",
     "text": [
      "Train accuracy: 0.8287669679152149\n",
      "Test accuracy: 0.5885916674433778\n"
     ]
    }
   ],
   "source": [
    "# Train a logistic regression model with principal components from standardized data\n",
    "from sklearn.linear_model import LogisticRegression\n",
    "\n",
    "logreg = LogisticRegression()\n",
    "logreg.fit(X_train_pc_standardized, y_train)\n",
    "\n",
    "# Evaluate the model\n",
    "print(\"Train accuracy:\", logreg.score(X_train_pc_standardized, y_train))\n",
    "print(\"Test accuracy:\", logreg.score(X_test_pc_standardized, y_test))"
   ],
   "metadata": {
    "collapsed": false,
    "ExecuteTime": {
     "end_time": "2023-08-08T11:33:48.569963Z",
     "start_time": "2023-08-08T11:33:48.386962800Z"
    }
   }
  },
  {
   "cell_type": "code",
   "execution_count": 147,
   "outputs": [
    {
     "name": "stdout",
     "output_type": "stream",
     "text": [
      "Train accuracy: 0.7162411077235772\n",
      "Test accuracy: 0.540497716469382\n"
     ]
    }
   ],
   "source": [
    "# Train a logistic regression model with principal components from normalized data\n",
    "logreg = LogisticRegression()\n",
    "logreg.fit(X_train_pc_normalized, y_train)\n",
    "\n",
    "# Evaluate the model\n",
    "print(\"Train accuracy:\", logreg.score(X_train_pc_normalized, y_train))\n",
    "print(\"Test accuracy:\", logreg.score(X_test_pc_normalized, y_test))"
   ],
   "metadata": {
    "collapsed": false,
    "ExecuteTime": {
     "end_time": "2023-08-08T11:33:48.896962700Z",
     "start_time": "2023-08-08T11:33:48.571962800Z"
    }
   }
  },
  {
   "cell_type": "code",
   "execution_count": 148,
   "outputs": [
    {
     "name": "stdout",
     "output_type": "stream",
     "text": [
      "Train accuracy: 0.8440970709930313\n",
      "Test accuracy: 0.5864324106005531\n"
     ]
    }
   ],
   "source": [
    "# Train a logistic regression model with all features\n",
    "logreg = LogisticRegression()\n",
    "logreg.fit(X_train_standardized, y_train)\n",
    "\n",
    "# Evaluate the model\n",
    "print(\"Train accuracy:\", logreg.score(X_train_standardized, y_train))\n",
    "print(\"Test accuracy:\", logreg.score(X_test_standardized, y_test))"
   ],
   "metadata": {
    "collapsed": false,
    "ExecuteTime": {
     "end_time": "2023-08-08T11:33:49.130963Z",
     "start_time": "2023-08-08T11:33:48.897962900Z"
    }
   }
  },
  {
   "cell_type": "code",
   "execution_count": 149,
   "outputs": [
    {
     "data": {
      "text/plain": "    Age  Tenure  Usage_Frequency  Support_Calls  Payment_Delay  Total_Spend  \\\n0  43.0    53.0              7.0            2.0            4.0       452.00   \n1  33.0    50.0             13.0            0.0            1.0       557.48   \n2  33.0    39.0             17.0            4.0           13.0       319.42   \n3  38.0    17.0             25.0            0.0           16.0       573.80   \n4  19.0    20.0              2.0            5.0           15.0       931.00   \n\n   Last_Interaction  \n0              23.0  \n1              17.0  \n2               6.0  \n3               9.0  \n4               8.0  ",
      "text/html": "<div>\n<style scoped>\n    .dataframe tbody tr th:only-of-type {\n        vertical-align: middle;\n    }\n\n    .dataframe tbody tr th {\n        vertical-align: top;\n    }\n\n    .dataframe thead th {\n        text-align: right;\n    }\n</style>\n<table border=\"1\" class=\"dataframe\">\n  <thead>\n    <tr style=\"text-align: right;\">\n      <th></th>\n      <th>Age</th>\n      <th>Tenure</th>\n      <th>Usage_Frequency</th>\n      <th>Support_Calls</th>\n      <th>Payment_Delay</th>\n      <th>Total_Spend</th>\n      <th>Last_Interaction</th>\n    </tr>\n  </thead>\n  <tbody>\n    <tr>\n      <th>0</th>\n      <td>43.0</td>\n      <td>53.0</td>\n      <td>7.0</td>\n      <td>2.0</td>\n      <td>4.0</td>\n      <td>452.00</td>\n      <td>23.0</td>\n    </tr>\n    <tr>\n      <th>1</th>\n      <td>33.0</td>\n      <td>50.0</td>\n      <td>13.0</td>\n      <td>0.0</td>\n      <td>1.0</td>\n      <td>557.48</td>\n      <td>17.0</td>\n    </tr>\n    <tr>\n      <th>2</th>\n      <td>33.0</td>\n      <td>39.0</td>\n      <td>17.0</td>\n      <td>4.0</td>\n      <td>13.0</td>\n      <td>319.42</td>\n      <td>6.0</td>\n    </tr>\n    <tr>\n      <th>3</th>\n      <td>38.0</td>\n      <td>17.0</td>\n      <td>25.0</td>\n      <td>0.0</td>\n      <td>16.0</td>\n      <td>573.80</td>\n      <td>9.0</td>\n    </tr>\n    <tr>\n      <th>4</th>\n      <td>19.0</td>\n      <td>20.0</td>\n      <td>2.0</td>\n      <td>5.0</td>\n      <td>15.0</td>\n      <td>931.00</td>\n      <td>8.0</td>\n    </tr>\n  </tbody>\n</table>\n</div>"
     },
     "execution_count": 149,
     "metadata": {},
     "output_type": "execute_result"
    }
   ],
   "source": [
    "# Do PCA using duckDB\n",
    "import duckdb\n",
    "\n",
    "con = duckdb.connect()\n",
    "\n",
    "# Load the data from CSV\n",
    "con.execute('create table churn as select * from X_train')\n",
    "\n",
    "# Return the first 5 rows\n",
    "con.execute('select * from churn limit 5').fetchdf()"
   ],
   "metadata": {
    "collapsed": false,
    "ExecuteTime": {
     "end_time": "2023-08-08T11:33:49.177962800Z",
     "start_time": "2023-08-08T11:33:49.131962800Z"
    }
   }
  },
  {
   "cell_type": "code",
   "execution_count": 150,
   "outputs": [
    {
     "name": "stdout",
     "output_type": "stream",
     "text": [
      "Computing variance for column: Age\n",
      "Variance: 154.8122073645793\n",
      "Computing variance for column: Tenure\n",
      "Variance: 297.75945213654813\n",
      "Computing variance for column: Usage_Frequency\n",
      "Variance: 73.72337835225596\n",
      "Computing variance for column: Support_Calls\n",
      "Variance: 9.426216433645134\n",
      "Computing variance for column: Payment_Delay\n",
      "Variance: 68.19544184549517\n",
      "Computing variance for column: Total_Spend\n",
      "Variance: 57985.95381084818\n",
      "Computing variance for column: Last_Interaction\n",
      "Variance: 73.89461890395972\n",
      "Average time: 0.00045142875398908344\n"
     ]
    }
   ],
   "source": [
    "import time\n",
    "\n",
    "# Compute the variance for each column using duckDB\n",
    "times = []\n",
    "for col_normalized in X_train.columns:\n",
    "    print(\"Computing variance for column:\", col_normalized)\n",
    "    query = f'select avg({col_normalized} * {col_normalized}) - avg({col_normalized}) * avg({col_normalized}) as var from churn'\n",
    "    var = con.execute(query).fetchone()[0]\n",
    "    print(\"Variance:\", var)\n",
    "\n",
    "    for i in range(1000):\n",
    "        start = time.time()\n",
    "        con.execute(query).fetchone()\n",
    "        end = time.time()\n",
    "        times.append(end - start)\n",
    "print(\"Average time:\", sum(times) / len(times))"
   ],
   "metadata": {
    "collapsed": false,
    "ExecuteTime": {
     "end_time": "2023-08-08T11:33:52.353962700Z",
     "start_time": "2023-08-08T11:33:49.179962600Z"
    }
   }
  },
  {
   "cell_type": "code",
   "execution_count": 151,
   "outputs": [
    {
     "name": "stdout",
     "output_type": "stream",
     "text": [
      "Computing variance for column: Age\n",
      "Variance: 154.81255854724856\n",
      "Computing variance for column: Tenure\n",
      "Variance: 297.7601275868955\n",
      "Computing variance for column: Usage_Frequency\n",
      "Variance: 73.72354558953815\n",
      "Computing variance for column: Support_Calls\n",
      "Variance: 9.426237816479905\n",
      "Computing variance for column: Payment_Delay\n",
      "Variance: 68.19559654296847\n",
      "Computing variance for column: Total_Spend\n",
      "Variance: 57986.085348672554\n",
      "Computing variance for column: Last_Interaction\n",
      "Variance: 73.89478652969133\n",
      "Average time: 0.0030621724128723146\n"
     ]
    }
   ],
   "source": [
    "# Compute the variance for Age using pandas\n",
    "times = []\n",
    "for col_normalized in X_train.columns:\n",
    "    print(\"Computing variance for column:\", col_normalized)\n",
    "    var = X_train[col_normalized].var()\n",
    "    print(\"Variance:\", var)\n",
    "\n",
    "    for i in range(1000):\n",
    "        start = time.time()\n",
    "        X_train[col_normalized].var()\n",
    "        end = time.time()\n",
    "        times.append(end - start)\n",
    "print(\"Average time:\", sum(times) / len(times))"
   ],
   "metadata": {
    "collapsed": false,
    "ExecuteTime": {
     "end_time": "2023-08-08T11:34:13.828689400Z",
     "start_time": "2023-08-08T11:33:52.353962700Z"
    }
   }
  },
  {
   "cell_type": "code",
   "execution_count": 152,
   "outputs": [
    {
     "name": "stdout",
     "output_type": "stream",
     "text": [
      "Decomposing column: Age\n",
      "Relative RMSE:  0.0006346472713092741\n",
      "Decomposing column: Tenure\n",
      "Relative RMSE:  0.0009160164084932558\n",
      "Decomposing column: Usage_Frequency\n",
      "Relative RMSE:  0.0011540881017398287\n",
      "Decomposing column: Support_Calls\n",
      "Relative RMSE:  0.00041382324813892164\n",
      "Decomposing column: Payment_Delay\n",
      "Relative RMSE:  0.001459579478540106\n",
      "Decomposing column: Total_Spend\n",
      "Relative RMSE:  3.832365100915135e-05\n",
      "Decomposing column: Last_Interaction\n",
      "Relative RMSE:  0.0011112547964621615\n"
     ]
    }
   ],
   "source": [
    "from src.kronecker import massaged_svd, compute_shapes, kronecker_decomposition\n",
    "\n",
    "# Decompose each column separately using pandas and numpy\n",
    "rank = 10\n",
    "krone_shapes = compute_shapes((X_train.shape[0], 1))\n",
    "a_matrix_individual = np.zeros((krone_shapes[0][0], rank * X_train.shape[1]))\n",
    "b_matrix_individual = np.zeros((krone_shapes[1][0], rank * X_train.shape[1]))\n",
    "nr_cols = X_train.shape[1]\n",
    "\n",
    "for col_idx, col_name in enumerate(X_train.columns):\n",
    "    print(\"Decomposing column:\", col_name)\n",
    "    col_normalized = X_train[col_name].values\n",
    "    col_normalized = np.sort(col_normalized)\n",
    "    # Compute the shapes\n",
    "    col_normalized = np.atleast_2d(col_normalized).T\n",
    "\n",
    "    # Perform the decomposition\n",
    "    u, s, v = massaged_svd(col_normalized, krone_shapes[0])\n",
    "\n",
    "    # Compute the kronecker product decomposition\n",
    "    a_s, b_s = kronecker_decomposition(u, s, v, krone_shapes[0], krone_shapes[1], k=rank)\n",
    "\n",
    "    # Store the results\n",
    "    col_approx = np.zeros(col_normalized.shape)\n",
    "    for r in range(rank):\n",
    "        a_matrix_individual[:, col_idx + r * nr_cols] = a_s[r][:, 0]\n",
    "        b_matrix_individual[:, col_idx + r * nr_cols] = b_s[r][:, 0]\n",
    "        col_approx += np.kron(a_s[r], b_s[r])\n",
    "\n",
    "    # Compute the error\n",
    "    print(\"Relative RMSE: \", np.sqrt(np.mean((col_normalized - col_approx) ** 2)) / np.mean(np.abs(col_normalized)))"
   ],
   "metadata": {
    "collapsed": false,
    "ExecuteTime": {
     "end_time": "2023-08-08T11:34:16.419934700Z",
     "start_time": "2023-08-08T11:34:13.834690Z"
    }
   }
  },
  {
   "cell_type": "code",
   "execution_count": 153,
   "outputs": [
    {
     "data": {
      "text/plain": "     Age_0  Tenure_0  Usage_Frequency_0  Support_Calls_0  Payment_Delay_0  \\\n0  2.81809   0.16837           0.237201     0.000000e+00     0.000000e+00   \n1  2.81809   0.16837           0.237201     1.182683e-13     4.486456e-14   \n2  2.81809   0.16837           0.237201     0.000000e+00     0.000000e+00   \n3  2.81809   0.16837           0.237201     0.000000e+00     0.000000e+00   \n4  2.81809   0.16837           0.237201     0.000000e+00     0.000000e+00   \n\n   Total_Spend_0  Last_Interaction_0     Age_1  Tenure_1  Usage_Frequency_1  \\\n0       3.916338            0.245158  0.031878   0.00205           0.002547   \n1       4.013357            0.245158  0.031878   0.00205           0.002547   \n2       4.106115            0.245158  0.031878   0.00205           0.002547   \n3       4.198751            0.245158  0.031878   0.00205           0.002547   \n4       4.287366            0.245158  0.031878   0.00205           0.002547   \n\n   ...  Payment_Delay_8  Total_Spend_8  Last_Interaction_8     Age_9  \\\n0  ...     0.000000e+00      -0.337211           -0.000211  0.000339   \n1  ...    -2.544575e-13       0.421527           -0.000211  0.000339   \n2  ...     1.760504e-15      -0.352405           -0.000211  0.000339   \n3  ...     2.293685e-14      -0.044501           -0.000211  0.000339   \n4  ...    -9.389352e-15       0.106588           -0.000211  0.000339   \n\n   Tenure_9  Usage_Frequency_9  Support_Calls_9  Payment_Delay_9  \\\n0 -0.000008          -0.000073     0.000000e+00     0.000000e+00   \n1 -0.000008          -0.000073    -1.156142e-13     5.468946e-13   \n2 -0.000008          -0.000073    -5.051394e-14     4.515093e-15   \n3 -0.000008          -0.000073    -2.740330e-14    -1.425128e-14   \n4 -0.000008          -0.000073    -1.595088e-14    -7.092801e-15   \n\n   Total_Spend_9  Last_Interaction_9  \n0       0.330138             0.00017  \n1       0.060843             0.00017  \n2       0.531136             0.00017  \n3      -0.061146             0.00017  \n4      -0.142000             0.00017  \n\n[5 rows x 70 columns]",
      "text/html": "<div>\n<style scoped>\n    .dataframe tbody tr th:only-of-type {\n        vertical-align: middle;\n    }\n\n    .dataframe tbody tr th {\n        vertical-align: top;\n    }\n\n    .dataframe thead th {\n        text-align: right;\n    }\n</style>\n<table border=\"1\" class=\"dataframe\">\n  <thead>\n    <tr style=\"text-align: right;\">\n      <th></th>\n      <th>Age_0</th>\n      <th>Tenure_0</th>\n      <th>Usage_Frequency_0</th>\n      <th>Support_Calls_0</th>\n      <th>Payment_Delay_0</th>\n      <th>Total_Spend_0</th>\n      <th>Last_Interaction_0</th>\n      <th>Age_1</th>\n      <th>Tenure_1</th>\n      <th>Usage_Frequency_1</th>\n      <th>...</th>\n      <th>Payment_Delay_8</th>\n      <th>Total_Spend_8</th>\n      <th>Last_Interaction_8</th>\n      <th>Age_9</th>\n      <th>Tenure_9</th>\n      <th>Usage_Frequency_9</th>\n      <th>Support_Calls_9</th>\n      <th>Payment_Delay_9</th>\n      <th>Total_Spend_9</th>\n      <th>Last_Interaction_9</th>\n    </tr>\n  </thead>\n  <tbody>\n    <tr>\n      <th>0</th>\n      <td>2.81809</td>\n      <td>0.16837</td>\n      <td>0.237201</td>\n      <td>0.000000e+00</td>\n      <td>0.000000e+00</td>\n      <td>3.916338</td>\n      <td>0.245158</td>\n      <td>0.031878</td>\n      <td>0.00205</td>\n      <td>0.002547</td>\n      <td>...</td>\n      <td>0.000000e+00</td>\n      <td>-0.337211</td>\n      <td>-0.000211</td>\n      <td>0.000339</td>\n      <td>-0.000008</td>\n      <td>-0.000073</td>\n      <td>0.000000e+00</td>\n      <td>0.000000e+00</td>\n      <td>0.330138</td>\n      <td>0.00017</td>\n    </tr>\n    <tr>\n      <th>1</th>\n      <td>2.81809</td>\n      <td>0.16837</td>\n      <td>0.237201</td>\n      <td>1.182683e-13</td>\n      <td>4.486456e-14</td>\n      <td>4.013357</td>\n      <td>0.245158</td>\n      <td>0.031878</td>\n      <td>0.00205</td>\n      <td>0.002547</td>\n      <td>...</td>\n      <td>-2.544575e-13</td>\n      <td>0.421527</td>\n      <td>-0.000211</td>\n      <td>0.000339</td>\n      <td>-0.000008</td>\n      <td>-0.000073</td>\n      <td>-1.156142e-13</td>\n      <td>5.468946e-13</td>\n      <td>0.060843</td>\n      <td>0.00017</td>\n    </tr>\n    <tr>\n      <th>2</th>\n      <td>2.81809</td>\n      <td>0.16837</td>\n      <td>0.237201</td>\n      <td>0.000000e+00</td>\n      <td>0.000000e+00</td>\n      <td>4.106115</td>\n      <td>0.245158</td>\n      <td>0.031878</td>\n      <td>0.00205</td>\n      <td>0.002547</td>\n      <td>...</td>\n      <td>1.760504e-15</td>\n      <td>-0.352405</td>\n      <td>-0.000211</td>\n      <td>0.000339</td>\n      <td>-0.000008</td>\n      <td>-0.000073</td>\n      <td>-5.051394e-14</td>\n      <td>4.515093e-15</td>\n      <td>0.531136</td>\n      <td>0.00017</td>\n    </tr>\n    <tr>\n      <th>3</th>\n      <td>2.81809</td>\n      <td>0.16837</td>\n      <td>0.237201</td>\n      <td>0.000000e+00</td>\n      <td>0.000000e+00</td>\n      <td>4.198751</td>\n      <td>0.245158</td>\n      <td>0.031878</td>\n      <td>0.00205</td>\n      <td>0.002547</td>\n      <td>...</td>\n      <td>2.293685e-14</td>\n      <td>-0.044501</td>\n      <td>-0.000211</td>\n      <td>0.000339</td>\n      <td>-0.000008</td>\n      <td>-0.000073</td>\n      <td>-2.740330e-14</td>\n      <td>-1.425128e-14</td>\n      <td>-0.061146</td>\n      <td>0.00017</td>\n    </tr>\n    <tr>\n      <th>4</th>\n      <td>2.81809</td>\n      <td>0.16837</td>\n      <td>0.237201</td>\n      <td>0.000000e+00</td>\n      <td>0.000000e+00</td>\n      <td>4.287366</td>\n      <td>0.245158</td>\n      <td>0.031878</td>\n      <td>0.00205</td>\n      <td>0.002547</td>\n      <td>...</td>\n      <td>-9.389352e-15</td>\n      <td>0.106588</td>\n      <td>-0.000211</td>\n      <td>0.000339</td>\n      <td>-0.000008</td>\n      <td>-0.000073</td>\n      <td>-1.595088e-14</td>\n      <td>-7.092801e-15</td>\n      <td>-0.142000</td>\n      <td>0.00017</td>\n    </tr>\n  </tbody>\n</table>\n<p>5 rows × 70 columns</p>\n</div>"
     },
     "execution_count": 153,
     "metadata": {},
     "output_type": "execute_result"
    }
   ],
   "source": [
    "a_df = pd.DataFrame(a_matrix_individual,\n",
    "                    columns=[f'{col_name}_{r}' for r in range(rank) for col_name in X_train.columns])\n",
    "b_df = pd.DataFrame(b_matrix_individual,\n",
    "                    columns=[f'{col_name}_{r}' for r in range(rank) for col_name in X_train.columns])\n",
    "\n",
    "# Load the data\n",
    "con.execute('create or replace table churn_a as select * from a_df')\n",
    "con.execute('create or replace table churn_b as select * from b_df')\n",
    "\n",
    "# Return the first 5 rows\n",
    "con.execute('select * from churn_a limit 5').fetchdf()"
   ],
   "metadata": {
    "collapsed": false,
    "ExecuteTime": {
     "end_time": "2023-08-08T11:34:16.452935100Z",
     "start_time": "2023-08-08T11:34:16.422934600Z"
    }
   }
  },
  {
   "cell_type": "code",
   "execution_count": 154,
   "outputs": [
    {
     "name": "stdout",
     "output_type": "stream",
     "text": [
      "Computing variance for column: Age\n",
      "Variance: (154.80064720438918,)\n",
      "Computing variance for column: Tenure\n",
      "Variance: (297.74463229253945,)\n",
      "Computing variance for column: Usage_Frequency\n",
      "Variance: (73.71542647649363,)\n",
      "Computing variance for column: Support_Calls\n",
      "Variance: (9.423366666104139,)\n",
      "Computing variance for column: Payment_Delay\n",
      "Variance: (68.18783321006381,)\n",
      "Computing variance for column: Total_Spend\n",
      "Variance: (57985.79521146935,)\n",
      "Computing variance for column: Last_Interaction\n",
      "Variance: (73.88717116886104,)\n",
      "Average time: 0.001690372279712132\n"
     ]
    }
   ],
   "source": [
    "# Compute the variances using duckDB and kronecker product\n",
    "for col_normalized in X_train.columns:\n",
    "    print(\"Computing variance for column:\", col_normalized)\n",
    "    query = f'select avg(a.{col_normalized}_0 * a.{col_normalized}_0) * avg(b.{col_normalized}_0 * b.{col_normalized}_0) - avg(a.{col_normalized}_0) * avg(b.{col_normalized}_0) * avg(a.{col_normalized}_0) * avg(b.{col_normalized}_0) as var from churn_a as a positional join churn_b as b'\n",
    "    var = con.execute(query).fetchone()\n",
    "    print(\"Variance:\", var)\n",
    "\n",
    "    for i in range(1000):\n",
    "        start = time.time()\n",
    "        con.execute(query).fetchone()\n",
    "        end = time.time()\n",
    "        times.append(end - start)\n",
    "\n",
    "print(\"Average time:\", sum(times) / len(times))"
   ],
   "metadata": {
    "collapsed": false,
    "ExecuteTime": {
     "end_time": "2023-08-08T11:34:18.700934500Z",
     "start_time": "2023-08-08T11:34:16.451934800Z"
    }
   }
  },
  {
   "cell_type": "code",
   "execution_count": 155,
   "outputs": [
    {
     "data": {
      "text/plain": "         Age  Tenure  Usage_Frequency  Support_Calls  Payment_Delay  \\\n37394   37.0    32.0             16.0            3.0           13.0   \n421626  42.0    33.0             15.0            4.0           15.0   \n420913  36.0    29.0             15.0            3.0           12.0   \n205484  41.0    33.0             16.0            4.0           13.0   \n19187   39.0    29.0             13.0            3.0           14.0   \n\n        Total_Spend  Last_Interaction  \n37394        592.33              15.0  \n421626       624.35              14.0  \n420913       642.83              13.0  \n205484       723.83              15.0  \n19187        598.99              16.0  ",
      "text/html": "<div>\n<style scoped>\n    .dataframe tbody tr th:only-of-type {\n        vertical-align: middle;\n    }\n\n    .dataframe tbody tr th {\n        vertical-align: top;\n    }\n\n    .dataframe thead th {\n        text-align: right;\n    }\n</style>\n<table border=\"1\" class=\"dataframe\">\n  <thead>\n    <tr style=\"text-align: right;\">\n      <th></th>\n      <th>Age</th>\n      <th>Tenure</th>\n      <th>Usage_Frequency</th>\n      <th>Support_Calls</th>\n      <th>Payment_Delay</th>\n      <th>Total_Spend</th>\n      <th>Last_Interaction</th>\n    </tr>\n  </thead>\n  <tbody>\n    <tr>\n      <th>37394</th>\n      <td>37.0</td>\n      <td>32.0</td>\n      <td>16.0</td>\n      <td>3.0</td>\n      <td>13.0</td>\n      <td>592.33</td>\n      <td>15.0</td>\n    </tr>\n    <tr>\n      <th>421626</th>\n      <td>42.0</td>\n      <td>33.0</td>\n      <td>15.0</td>\n      <td>4.0</td>\n      <td>15.0</td>\n      <td>624.35</td>\n      <td>14.0</td>\n    </tr>\n    <tr>\n      <th>420913</th>\n      <td>36.0</td>\n      <td>29.0</td>\n      <td>15.0</td>\n      <td>3.0</td>\n      <td>12.0</td>\n      <td>642.83</td>\n      <td>13.0</td>\n    </tr>\n    <tr>\n      <th>205484</th>\n      <td>41.0</td>\n      <td>33.0</td>\n      <td>16.0</td>\n      <td>4.0</td>\n      <td>13.0</td>\n      <td>723.83</td>\n      <td>15.0</td>\n    </tr>\n    <tr>\n      <th>19187</th>\n      <td>39.0</td>\n      <td>29.0</td>\n      <td>13.0</td>\n      <td>3.0</td>\n      <td>14.0</td>\n      <td>598.99</td>\n      <td>16.0</td>\n    </tr>\n  </tbody>\n</table>\n</div>"
     },
     "execution_count": 155,
     "metadata": {},
     "output_type": "execute_result"
    }
   ],
   "source": [
    "# Calculate the global sort order based on the vector length of each tuple using the standardized data\n",
    "global_sort_order_standardized = np.argsort(np.linalg.norm(X_train_standardized, axis=1))\n",
    "\n",
    "# Sort the data\n",
    "X_train_sorted_by_standardized = X_train.iloc[global_sort_order_standardized]\n",
    "\n",
    "# Print the first 5 rows\n",
    "X_train_sorted_by_standardized.head()"
   ],
   "metadata": {
    "collapsed": false,
    "ExecuteTime": {
     "end_time": "2023-08-08T11:34:18.779934500Z",
     "start_time": "2023-08-08T11:34:18.702985800Z"
    }
   }
  },
  {
   "cell_type": "code",
   "execution_count": 156,
   "outputs": [
    {
     "data": {
      "text/plain": "         Age  Tenure  Usage_Frequency  Support_Calls  Payment_Delay  \\\n9664    51.0    41.0              4.0            1.0           10.0   \n14787   34.0    25.0              9.0            7.0            8.0   \n325100  57.0    24.0              1.0            1.0           27.0   \n286863  58.0    50.0             25.0            9.0           13.0   \n79338   47.0    21.0             27.0            0.0           11.0   \n\n        Total_Spend  Last_Interaction  \n9664         122.37              10.0  \n14787        299.00              19.0  \n325100       119.69               6.0  \n286863       680.00              30.0  \n79338        898.73              12.0  ",
      "text/html": "<div>\n<style scoped>\n    .dataframe tbody tr th:only-of-type {\n        vertical-align: middle;\n    }\n\n    .dataframe tbody tr th {\n        vertical-align: top;\n    }\n\n    .dataframe thead th {\n        text-align: right;\n    }\n</style>\n<table border=\"1\" class=\"dataframe\">\n  <thead>\n    <tr style=\"text-align: right;\">\n      <th></th>\n      <th>Age</th>\n      <th>Tenure</th>\n      <th>Usage_Frequency</th>\n      <th>Support_Calls</th>\n      <th>Payment_Delay</th>\n      <th>Total_Spend</th>\n      <th>Last_Interaction</th>\n    </tr>\n  </thead>\n  <tbody>\n    <tr>\n      <th>9664</th>\n      <td>51.0</td>\n      <td>41.0</td>\n      <td>4.0</td>\n      <td>1.0</td>\n      <td>10.0</td>\n      <td>122.37</td>\n      <td>10.0</td>\n    </tr>\n    <tr>\n      <th>14787</th>\n      <td>34.0</td>\n      <td>25.0</td>\n      <td>9.0</td>\n      <td>7.0</td>\n      <td>8.0</td>\n      <td>299.00</td>\n      <td>19.0</td>\n    </tr>\n    <tr>\n      <th>325100</th>\n      <td>57.0</td>\n      <td>24.0</td>\n      <td>1.0</td>\n      <td>1.0</td>\n      <td>27.0</td>\n      <td>119.69</td>\n      <td>6.0</td>\n    </tr>\n    <tr>\n      <th>286863</th>\n      <td>58.0</td>\n      <td>50.0</td>\n      <td>25.0</td>\n      <td>9.0</td>\n      <td>13.0</td>\n      <td>680.00</td>\n      <td>30.0</td>\n    </tr>\n    <tr>\n      <th>79338</th>\n      <td>47.0</td>\n      <td>21.0</td>\n      <td>27.0</td>\n      <td>0.0</td>\n      <td>11.0</td>\n      <td>898.73</td>\n      <td>12.0</td>\n    </tr>\n  </tbody>\n</table>\n</div>"
     },
     "execution_count": 156,
     "metadata": {},
     "output_type": "execute_result"
    }
   ],
   "source": [
    "# Calculate the global sort order based on the vector length of each tuple using the normalized data\n",
    "global_sort_order_normalized = np.argsort(np.linalg.norm(X_train_normalized, axis=1))\n",
    "\n",
    "# Sort the data\n",
    "X_train_sorted_by_normalized = X_train.iloc[global_sort_order_normalized]\n",
    "\n",
    "# Print the first 5 rows\n",
    "X_train_sorted_by_normalized.head()"
   ],
   "metadata": {
    "collapsed": false,
    "ExecuteTime": {
     "end_time": "2023-08-08T11:34:18.866935Z",
     "start_time": "2023-08-08T11:34:18.781934600Z"
    }
   }
  },
  {
   "cell_type": "code",
   "execution_count": 157,
   "outputs": [
    {
     "name": "stdout",
     "output_type": "stream",
     "text": [
      "Decomposing column: Age\n",
      "Relative RMSE standardized:  0.3022998574725026\n",
      "Relative RMSE normalized:  0.30734787323381746\n",
      "Decomposing column: Tenure\n",
      "Relative RMSE standardized:  0.5354241464642058\n",
      "Relative RMSE normalized:  0.5369497439025452\n",
      "Decomposing column: Usage_Frequency\n",
      "Relative RMSE standardized:  0.5270023313616485\n",
      "Relative RMSE normalized:  0.5282773328934431\n",
      "Decomposing column: Support_Calls\n",
      "Relative RMSE standardized:  0.745574159866799\n",
      "Relative RMSE normalized:  0.8284906558883882\n",
      "Decomposing column: Payment_Delay\n",
      "Relative RMSE standardized:  0.600624253341177\n",
      "Relative RMSE normalized:  0.6196010636356991\n",
      "Decomposing column: Total_Spend\n",
      "Relative RMSE standardized:  0.3495831284187646\n",
      "Relative RMSE normalized:  0.3706098480164198\n",
      "Decomposing column: Last_Interaction\n",
      "Relative RMSE standardized:  0.5718170584356776\n",
      "Relative RMSE normalized:  0.5773033566525698\n"
     ]
    }
   ],
   "source": [
    "# Compute the shapes\n",
    "rank = 10\n",
    "krone_shapes = compute_shapes((X_train.shape[0], 1))\n",
    "a_matrix_global_std = np.zeros((krone_shapes[0][0], rank * X_train.shape[1]))\n",
    "b_matrix_global_std = np.zeros((krone_shapes[1][0], rank * X_train.shape[1]))\n",
    "a_matrix_global_norm = np.zeros((krone_shapes[0][0], rank * X_train.shape[1]))\n",
    "b_matrix_global_norm = np.zeros((krone_shapes[1][0], rank * X_train.shape[1]))\n",
    "nr_cols = X_train.shape[1]\n",
    "\n",
    "# Perform the decomposition\n",
    "for col_idx, col_name in enumerate(X_train.columns):\n",
    "    print(\"Decomposing column:\", col_name)\n",
    "    col_standardized = X_train_sorted_by_standardized[col_name].values\n",
    "    col_normalized = X_train_sorted_by_normalized[col_name].values\n",
    "\n",
    "    # Compute the shapes\n",
    "    col_standardized = np.atleast_2d(col_standardized).T\n",
    "    col_normalized = np.atleast_2d(col_normalized).T\n",
    "\n",
    "    # Perform the decomposition\n",
    "    u_std, s_std, v_std = massaged_svd(col_standardized, krone_shapes[0])\n",
    "    u_norm, s_norm, v_norm = massaged_svd(col_normalized, krone_shapes[0])\n",
    "\n",
    "    # Compute the kronecker product decomposition\n",
    "    a_s_std, b_s_std = kronecker_decomposition(u_std, s_std, v_std, krone_shapes[0], krone_shapes[1], k=rank)\n",
    "    a_s_norm, b_s_norm = kronecker_decomposition(u_norm, s_norm, v_norm, krone_shapes[0], krone_shapes[1], k=rank)\n",
    "\n",
    "    # Store the results\n",
    "    col_approx_std = np.zeros(col_standardized.shape)\n",
    "    col_approx_norm = np.zeros(col_normalized.shape)\n",
    "\n",
    "    for r in range(rank):\n",
    "        a_matrix_global_std[:, col_idx + r * nr_cols] = a_s_std[r][:, 0]\n",
    "        b_matrix_global_std[:, col_idx + r * nr_cols] = b_s_std[r][:, 0]\n",
    "        col_approx_std += np.kron(a_s_std[r], b_s_std[r])\n",
    "\n",
    "        a_matrix_global_norm[:, col_idx + r * nr_cols] = a_s_norm[r][:, 0]\n",
    "        b_matrix_global_norm[:, col_idx + r * nr_cols] = b_s_norm[r][:, 0]\n",
    "        col_approx_norm += np.kron(a_s_norm[r], b_s_norm[r])\n",
    "\n",
    "    rmse_std = np.sqrt(np.mean((col_standardized - col_approx_std) ** 2)) / np.mean(np.abs(col_standardized))\n",
    "    rmse_norm = np.sqrt(np.mean((col_normalized - col_approx_norm) ** 2)) / np.mean(np.abs(col_normalized))\n",
    "\n",
    "    # Compute the error\n",
    "    print(\"Relative RMSE standardized: \", rmse_std)\n",
    "    print(\"Relative RMSE normalized: \", rmse_norm)"
   ],
   "metadata": {
    "collapsed": false,
    "ExecuteTime": {
     "end_time": "2023-08-08T11:34:24.154009100Z",
     "start_time": "2023-08-08T11:34:18.828934900Z"
    }
   }
  },
  {
   "cell_type": "code",
   "execution_count": 158,
   "outputs": [
    {
     "data": {
      "text/plain": "         Age  Tenure  Usage_Frequency  Support_Calls  Payment_Delay  \\\n282812  20.0    59.0             24.0            0.0            0.0   \n240956  21.0    45.0             28.0            0.0            0.0   \n333613  20.0    32.0             27.0            0.0            0.0   \n135567  22.0    55.0             30.0            0.0            1.0   \n97611   21.0    41.0             23.0            0.0            0.0   \n\n        Total_Spend  Last_Interaction  \n282812       955.86               3.0  \n240956       976.69               3.0  \n333613       964.56               2.0  \n135567       999.97               6.0  \n97611        976.14               3.0  ",
      "text/html": "<div>\n<style scoped>\n    .dataframe tbody tr th:only-of-type {\n        vertical-align: middle;\n    }\n\n    .dataframe tbody tr th {\n        vertical-align: top;\n    }\n\n    .dataframe thead th {\n        text-align: right;\n    }\n</style>\n<table border=\"1\" class=\"dataframe\">\n  <thead>\n    <tr style=\"text-align: right;\">\n      <th></th>\n      <th>Age</th>\n      <th>Tenure</th>\n      <th>Usage_Frequency</th>\n      <th>Support_Calls</th>\n      <th>Payment_Delay</th>\n      <th>Total_Spend</th>\n      <th>Last_Interaction</th>\n    </tr>\n  </thead>\n  <tbody>\n    <tr>\n      <th>282812</th>\n      <td>20.0</td>\n      <td>59.0</td>\n      <td>24.0</td>\n      <td>0.0</td>\n      <td>0.0</td>\n      <td>955.86</td>\n      <td>3.0</td>\n    </tr>\n    <tr>\n      <th>240956</th>\n      <td>21.0</td>\n      <td>45.0</td>\n      <td>28.0</td>\n      <td>0.0</td>\n      <td>0.0</td>\n      <td>976.69</td>\n      <td>3.0</td>\n    </tr>\n    <tr>\n      <th>333613</th>\n      <td>20.0</td>\n      <td>32.0</td>\n      <td>27.0</td>\n      <td>0.0</td>\n      <td>0.0</td>\n      <td>964.56</td>\n      <td>2.0</td>\n    </tr>\n    <tr>\n      <th>135567</th>\n      <td>22.0</td>\n      <td>55.0</td>\n      <td>30.0</td>\n      <td>0.0</td>\n      <td>1.0</td>\n      <td>999.97</td>\n      <td>6.0</td>\n    </tr>\n    <tr>\n      <th>97611</th>\n      <td>21.0</td>\n      <td>41.0</td>\n      <td>23.0</td>\n      <td>0.0</td>\n      <td>0.0</td>\n      <td>976.14</td>\n      <td>3.0</td>\n    </tr>\n  </tbody>\n</table>\n</div>"
     },
     "execution_count": 158,
     "metadata": {},
     "output_type": "execute_result"
    }
   ],
   "source": [
    "# Sort all tuples using a global sort order bsed on the projection onto the first principal component\n",
    "global_sort_order = np.argsort(X_train_pc_standardized[:, 0])\n",
    "\n",
    "# Sort the data\n",
    "X_train_sorted_by_pc = X_train.iloc[global_sort_order]\n",
    "\n",
    "# Print the first 5 rows\n",
    "X_train_sorted_by_pc.head()"
   ],
   "metadata": {
    "collapsed": false,
    "ExecuteTime": {
     "end_time": "2023-08-08T11:34:24.210008800Z",
     "start_time": "2023-08-08T11:34:24.152011900Z"
    }
   }
  },
  {
   "cell_type": "code",
   "execution_count": 159,
   "outputs": [
    {
     "name": "stdout",
     "output_type": "stream",
     "text": [
      "Decomposing column: Age\n",
      "Relative RMSE:  0.27164391810609356\n",
      "Decomposing column: Tenure\n",
      "Relative RMSE:  0.5339522792406465\n",
      "Decomposing column: Usage_Frequency\n",
      "Relative RMSE:  0.5263297689583848\n",
      "Decomposing column: Support_Calls\n",
      "Relative RMSE:  0.5766861661991755\n",
      "Decomposing column: Payment_Delay\n",
      "Relative RMSE:  0.528935649552289\n",
      "Decomposing column: Total_Spend\n",
      "Relative RMSE:  0.2911782533831807\n",
      "Decomposing column: Last_Interaction\n",
      "Relative RMSE:  0.5519094423983848\n"
     ]
    }
   ],
   "source": [
    "# Compute the shapes\n",
    "rank = 10\n",
    "krone_shapes = compute_shapes((X_train.shape[0], 1))\n",
    "a_matrix_global_pc = np.zeros((krone_shapes[0][0], rank * X_train.shape[1]))\n",
    "b_matrix_global_pc = np.zeros((krone_shapes[1][0], rank * X_train.shape[1]))\n",
    "nr_cols = X_train.shape[1]\n",
    "\n",
    "# Perform the decomposition\n",
    "for col_name in X_train.columns:\n",
    "    print(\"Decomposing column:\", col_name)\n",
    "    col = X_train_sorted_by_pc[col_name].values\n",
    "\n",
    "    # Compute the shapes\n",
    "    col = np.atleast_2d(col).T\n",
    "\n",
    "    # Perform the decomposition\n",
    "    u, s, v = massaged_svd(col, krone_shapes[0])\n",
    "\n",
    "    # Compute the kronecker product decomposition\n",
    "    a_s, b_s = kronecker_decomposition(u, s, v, krone_shapes[0], krone_shapes[1], k=rank)\n",
    "\n",
    "    # Store the results\n",
    "    col_approx = np.zeros(col.shape)\n",
    "\n",
    "    for r in range(rank):\n",
    "        a_matrix_global_pc[:, col_idx + r * nr_cols] = a_s[r][:, 0]\n",
    "        b_matrix_global_pc[:, col_idx + r * nr_cols] = b_s[r][:, 0]\n",
    "        col_approx += np.kron(a_s[r], b_s[r])\n",
    "\n",
    "    rmse = np.sqrt(np.mean((col - col_approx) ** 2)) / np.mean(np.abs(col))\n",
    "\n",
    "    # Compute the error\n",
    "    print(\"Relative RMSE: \", rmse)"
   ],
   "metadata": {
    "collapsed": false,
    "ExecuteTime": {
     "end_time": "2023-08-08T11:34:26.957009600Z",
     "start_time": "2023-08-08T11:34:24.214008900Z"
    }
   }
  }
 ],
 "metadata": {
  "kernelspec": {
   "display_name": "Python 3",
   "language": "python",
   "name": "python3"
  },
  "language_info": {
   "codemirror_mode": {
    "name": "ipython",
    "version": 2
   },
   "file_extension": ".py",
   "mimetype": "text/x-python",
   "name": "python",
   "nbconvert_exporter": "python",
   "pygments_lexer": "ipython2",
   "version": "2.7.6"
  }
 },
 "nbformat": 4,
 "nbformat_minor": 0
}
